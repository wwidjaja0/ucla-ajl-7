{
  "cells": [
    {
      "cell_type": "markdown",
      "metadata": {
        "id": "view-in-github",
        "colab_type": "text"
      },
      "source": [
        "<a href=\"https://colab.research.google.com/github/wwidjaja0/ucla-ajl-7/blob/main/UCLA_AJL_Team_7.ipynb\" target=\"_parent\"><img src=\"https://colab.research.google.com/assets/colab-badge.svg\" alt=\"Open In Colab\"/></a>"
      ]
    },
    {
      "cell_type": "markdown",
      "metadata": {
        "id": "diijdWiX_6I6"
      },
      "source": [
        "# **UCLA AJI Team 7**"
      ]
    },
    {
      "cell_type": "markdown",
      "metadata": {
        "id": "nqryR7MowCEx"
      },
      "source": [
        "\n",
        "\n",
        "---\n",
        "\n",
        "\n",
        "**Resources and Documents:**  \n",
        "[Notion](https://www.notion.so/team/18610071-e06a-812f-98e5-004281f76263/join) | [Google Drive](https://drive.google.com/drive/folders/1uNRJqQwA9hGX1WO9Tq-dfMP-ASt_dR5L?usp=sharing) | [Github Repo](https://github.com/wwidjaja0/ucla-aji-7)\n",
        "\n",
        "---\n",
        "\n",
        "**Summary**"
      ]
    },
    {
      "cell_type": "markdown",
      "metadata": {
        "id": "YGK8HXRvYh14"
      },
      "source": [
        "## **How to contribute to this Colab**\n",
        "Every time you make contributions/changes to this file, please follow the steps below for version control."
      ]
    },
    {
      "cell_type": "markdown",
      "metadata": {
        "id": "nYfDqHvvZ6U2"
      },
      "source": [
        "### 1. Click save a copy in GitHub\n",
        "\n",
        "![saveacopy.png](https://i.imghippo.com/files/GqN7306fLg.png)\n",
        "\n",
        "### 2. MAKE SURE YOU'RE SAVING IT TO THE RIGHT REPO (it should be <your username>/ucla-ajl-7)\n",
        "### 3. Feel free to add a commit message to let others know/for documentation what you changed/did.\n",
        "\n",
        "![commit.png](https://i.imghippo.com/files/JOJ9352xYs.png)"
      ]
    },
    {
      "cell_type": "markdown",
      "metadata": {
        "id": "kuHz3aonxZUe"
      },
      "source": [
        "## **1. Setup Data**"
      ]
    },
    {
      "cell_type": "markdown",
      "source": [
        "### File Structure Setup + Kaggle API Connection"
      ],
      "metadata": {
        "id": "c92bxVecvog-"
      }
    },
    {
      "cell_type": "code",
      "execution_count": 15,
      "metadata": {
        "id": "B9HZJBZJR7u8"
      },
      "outputs": [],
      "source": [
        "! pip install -q kaggle # install kaggle library"
      ]
    },
    {
      "cell_type": "code",
      "execution_count": 29,
      "metadata": {
        "id": "Zm456oMQO0JW"
      },
      "outputs": [],
      "source": [
        "# Upload your kaggle.json to access the Kaggle API from your account:\n",
        "from google.colab import files\n",
        "import os\n",
        "import kaggle\n",
        "\n",
        "if not os.path.exists('./kaggle.json'):\n",
        "  files.upload()\n",
        "  ! mkdir ~/.kaggle\n",
        "  ! cp kaggle.json ~/.kaggle/\n",
        "  ! chmod 600 ~/.kaggle/kaggle.json"
      ]
    },
    {
      "cell_type": "code",
      "execution_count": 17,
      "metadata": {
        "id": "cKEbXb1QQlot"
      },
      "outputs": [],
      "source": [
        "if not os.path.exists('./train.csv'):\n",
        "  ! kaggle competitions download -c bttai-ajl-2025 # Attempt to download the bttai-ajl-2025.zip\n",
        "  ! unzip -q bttai-ajl-2025.zip # unzip the downloaded competition folder"
      ]
    },
    {
      "cell_type": "code",
      "execution_count": 18,
      "metadata": {
        "id": "a8jkcdl5Qmd9"
      },
      "outputs": [],
      "source": [
        "if os.path.exists('./bttai-ajl-2025.zip'):\n",
        "  ! rm bttai-ajl-2025.zip # cleanup\n",
        "if os.path.exists('./sample_data/'):\n",
        "  ! rm -rf sample_data # cleanup"
      ]
    },
    {
      "cell_type": "markdown",
      "source": [
        "### Generate Pandas Dataframes from train/test CSV files"
      ],
      "metadata": {
        "id": "2dhzDvXdvtHI"
      }
    },
    {
      "cell_type": "code",
      "execution_count": 19,
      "metadata": {
        "id": "bXJnbGEc52fA"
      },
      "outputs": [],
      "source": [
        "import pandas as pd\n",
        "\n",
        "# Load the data\n",
        "train_df = pd.read_csv('./train.csv')\n",
        "test_df = pd.read_csv('./test.csv')\n",
        "\n",
        "# Add .jpg extension to md5hash column to reference the file_name\n",
        "train_df['md5hash'] = train_df['md5hash'].astype(str) + '.jpg'\n",
        "test_df['md5hash'] = test_df['md5hash'].astype(str) + '.jpg'\n",
        "\n",
        "# Combine label and md5hash to form the correct path\n",
        "train_df['file_path'] = train_df['label'] + '/' + train_df['md5hash']"
      ]
    },
    {
      "cell_type": "code",
      "execution_count": 20,
      "metadata": {
        "id": "InKRID-O58zm",
        "colab": {
          "base_uri": "https://localhost:8080/",
          "height": 330
        },
        "outputId": "d26d42b3-3d8e-45a7-b222-98c5b54eea11"
      },
      "outputs": [
        {
          "output_type": "execute_result",
          "data": {
            "text/plain": [
              "                                md5hash  fitzpatrick_scale  \\\n",
              "0  fd06d13de341cc75ad679916c5d7e6a6.jpg                  4   \n",
              "1  a4bb4e5206c4e89a303f470576fc5253.jpg                  1   \n",
              "2  c94ce27e389f96bda998e7c3fa5c4a2e.jpg                  5   \n",
              "3  ebcf2b50dd943c700d4e2b586fcd4425.jpg                  3   \n",
              "4  c77d6c895f05fea73a8f3704307036c0.jpg                  1   \n",
              "\n",
              "   fitzpatrick_centaur                             label nine_partition_label  \\\n",
              "0                    4                 prurigo-nodularis     benign-epidermal   \n",
              "1                    1  basal-cell-carcinoma-morpheiform  malignant-epidermal   \n",
              "2                    5                            keloid         inflammatory   \n",
              "3                    3              basal-cell-carcinoma  malignant-epidermal   \n",
              "4                    1                 prurigo-nodularis     benign-epidermal   \n",
              "\n",
              "  three_partition_label            qc  ddi_scale  \\\n",
              "0                benign           NaN         34   \n",
              "1             malignant           NaN         12   \n",
              "2        non-neoplastic  1 Diagnostic         56   \n",
              "3             malignant           NaN         34   \n",
              "4                benign           NaN         12   \n",
              "\n",
              "                                           file_path  \n",
              "0  prurigo-nodularis/fd06d13de341cc75ad679916c5d7...  \n",
              "1  basal-cell-carcinoma-morpheiform/a4bb4e5206c4e...  \n",
              "2        keloid/c94ce27e389f96bda998e7c3fa5c4a2e.jpg  \n",
              "3  basal-cell-carcinoma/ebcf2b50dd943c700d4e2b586...  \n",
              "4  prurigo-nodularis/c77d6c895f05fea73a8f37043070...  "
            ],
            "text/html": [
              "\n",
              "  <div id=\"df-8ff718a9-326b-4387-b9a6-cb65c72e75d6\" class=\"colab-df-container\">\n",
              "    <div>\n",
              "<style scoped>\n",
              "    .dataframe tbody tr th:only-of-type {\n",
              "        vertical-align: middle;\n",
              "    }\n",
              "\n",
              "    .dataframe tbody tr th {\n",
              "        vertical-align: top;\n",
              "    }\n",
              "\n",
              "    .dataframe thead th {\n",
              "        text-align: right;\n",
              "    }\n",
              "</style>\n",
              "<table border=\"1\" class=\"dataframe\">\n",
              "  <thead>\n",
              "    <tr style=\"text-align: right;\">\n",
              "      <th></th>\n",
              "      <th>md5hash</th>\n",
              "      <th>fitzpatrick_scale</th>\n",
              "      <th>fitzpatrick_centaur</th>\n",
              "      <th>label</th>\n",
              "      <th>nine_partition_label</th>\n",
              "      <th>three_partition_label</th>\n",
              "      <th>qc</th>\n",
              "      <th>ddi_scale</th>\n",
              "      <th>file_path</th>\n",
              "    </tr>\n",
              "  </thead>\n",
              "  <tbody>\n",
              "    <tr>\n",
              "      <th>0</th>\n",
              "      <td>fd06d13de341cc75ad679916c5d7e6a6.jpg</td>\n",
              "      <td>4</td>\n",
              "      <td>4</td>\n",
              "      <td>prurigo-nodularis</td>\n",
              "      <td>benign-epidermal</td>\n",
              "      <td>benign</td>\n",
              "      <td>NaN</td>\n",
              "      <td>34</td>\n",
              "      <td>prurigo-nodularis/fd06d13de341cc75ad679916c5d7...</td>\n",
              "    </tr>\n",
              "    <tr>\n",
              "      <th>1</th>\n",
              "      <td>a4bb4e5206c4e89a303f470576fc5253.jpg</td>\n",
              "      <td>1</td>\n",
              "      <td>1</td>\n",
              "      <td>basal-cell-carcinoma-morpheiform</td>\n",
              "      <td>malignant-epidermal</td>\n",
              "      <td>malignant</td>\n",
              "      <td>NaN</td>\n",
              "      <td>12</td>\n",
              "      <td>basal-cell-carcinoma-morpheiform/a4bb4e5206c4e...</td>\n",
              "    </tr>\n",
              "    <tr>\n",
              "      <th>2</th>\n",
              "      <td>c94ce27e389f96bda998e7c3fa5c4a2e.jpg</td>\n",
              "      <td>5</td>\n",
              "      <td>5</td>\n",
              "      <td>keloid</td>\n",
              "      <td>inflammatory</td>\n",
              "      <td>non-neoplastic</td>\n",
              "      <td>1 Diagnostic</td>\n",
              "      <td>56</td>\n",
              "      <td>keloid/c94ce27e389f96bda998e7c3fa5c4a2e.jpg</td>\n",
              "    </tr>\n",
              "    <tr>\n",
              "      <th>3</th>\n",
              "      <td>ebcf2b50dd943c700d4e2b586fcd4425.jpg</td>\n",
              "      <td>3</td>\n",
              "      <td>3</td>\n",
              "      <td>basal-cell-carcinoma</td>\n",
              "      <td>malignant-epidermal</td>\n",
              "      <td>malignant</td>\n",
              "      <td>NaN</td>\n",
              "      <td>34</td>\n",
              "      <td>basal-cell-carcinoma/ebcf2b50dd943c700d4e2b586...</td>\n",
              "    </tr>\n",
              "    <tr>\n",
              "      <th>4</th>\n",
              "      <td>c77d6c895f05fea73a8f3704307036c0.jpg</td>\n",
              "      <td>1</td>\n",
              "      <td>1</td>\n",
              "      <td>prurigo-nodularis</td>\n",
              "      <td>benign-epidermal</td>\n",
              "      <td>benign</td>\n",
              "      <td>NaN</td>\n",
              "      <td>12</td>\n",
              "      <td>prurigo-nodularis/c77d6c895f05fea73a8f37043070...</td>\n",
              "    </tr>\n",
              "  </tbody>\n",
              "</table>\n",
              "</div>\n",
              "    <div class=\"colab-df-buttons\">\n",
              "\n",
              "  <div class=\"colab-df-container\">\n",
              "    <button class=\"colab-df-convert\" onclick=\"convertToInteractive('df-8ff718a9-326b-4387-b9a6-cb65c72e75d6')\"\n",
              "            title=\"Convert this dataframe to an interactive table.\"\n",
              "            style=\"display:none;\">\n",
              "\n",
              "  <svg xmlns=\"http://www.w3.org/2000/svg\" height=\"24px\" viewBox=\"0 -960 960 960\">\n",
              "    <path d=\"M120-120v-720h720v720H120Zm60-500h600v-160H180v160Zm220 220h160v-160H400v160Zm0 220h160v-160H400v160ZM180-400h160v-160H180v160Zm440 0h160v-160H620v160ZM180-180h160v-160H180v160Zm440 0h160v-160H620v160Z\"/>\n",
              "  </svg>\n",
              "    </button>\n",
              "\n",
              "  <style>\n",
              "    .colab-df-container {\n",
              "      display:flex;\n",
              "      gap: 12px;\n",
              "    }\n",
              "\n",
              "    .colab-df-convert {\n",
              "      background-color: #E8F0FE;\n",
              "      border: none;\n",
              "      border-radius: 50%;\n",
              "      cursor: pointer;\n",
              "      display: none;\n",
              "      fill: #1967D2;\n",
              "      height: 32px;\n",
              "      padding: 0 0 0 0;\n",
              "      width: 32px;\n",
              "    }\n",
              "\n",
              "    .colab-df-convert:hover {\n",
              "      background-color: #E2EBFA;\n",
              "      box-shadow: 0px 1px 2px rgba(60, 64, 67, 0.3), 0px 1px 3px 1px rgba(60, 64, 67, 0.15);\n",
              "      fill: #174EA6;\n",
              "    }\n",
              "\n",
              "    .colab-df-buttons div {\n",
              "      margin-bottom: 4px;\n",
              "    }\n",
              "\n",
              "    [theme=dark] .colab-df-convert {\n",
              "      background-color: #3B4455;\n",
              "      fill: #D2E3FC;\n",
              "    }\n",
              "\n",
              "    [theme=dark] .colab-df-convert:hover {\n",
              "      background-color: #434B5C;\n",
              "      box-shadow: 0px 1px 3px 1px rgba(0, 0, 0, 0.15);\n",
              "      filter: drop-shadow(0px 1px 2px rgba(0, 0, 0, 0.3));\n",
              "      fill: #FFFFFF;\n",
              "    }\n",
              "  </style>\n",
              "\n",
              "    <script>\n",
              "      const buttonEl =\n",
              "        document.querySelector('#df-8ff718a9-326b-4387-b9a6-cb65c72e75d6 button.colab-df-convert');\n",
              "      buttonEl.style.display =\n",
              "        google.colab.kernel.accessAllowed ? 'block' : 'none';\n",
              "\n",
              "      async function convertToInteractive(key) {\n",
              "        const element = document.querySelector('#df-8ff718a9-326b-4387-b9a6-cb65c72e75d6');\n",
              "        const dataTable =\n",
              "          await google.colab.kernel.invokeFunction('convertToInteractive',\n",
              "                                                    [key], {});\n",
              "        if (!dataTable) return;\n",
              "\n",
              "        const docLinkHtml = 'Like what you see? Visit the ' +\n",
              "          '<a target=\"_blank\" href=https://colab.research.google.com/notebooks/data_table.ipynb>data table notebook</a>'\n",
              "          + ' to learn more about interactive tables.';\n",
              "        element.innerHTML = '';\n",
              "        dataTable['output_type'] = 'display_data';\n",
              "        await google.colab.output.renderOutput(dataTable, element);\n",
              "        const docLink = document.createElement('div');\n",
              "        docLink.innerHTML = docLinkHtml;\n",
              "        element.appendChild(docLink);\n",
              "      }\n",
              "    </script>\n",
              "  </div>\n",
              "\n",
              "\n",
              "<div id=\"df-6f24a77b-591e-45bd-a429-63e719f749cc\">\n",
              "  <button class=\"colab-df-quickchart\" onclick=\"quickchart('df-6f24a77b-591e-45bd-a429-63e719f749cc')\"\n",
              "            title=\"Suggest charts\"\n",
              "            style=\"display:none;\">\n",
              "\n",
              "<svg xmlns=\"http://www.w3.org/2000/svg\" height=\"24px\"viewBox=\"0 0 24 24\"\n",
              "     width=\"24px\">\n",
              "    <g>\n",
              "        <path d=\"M19 3H5c-1.1 0-2 .9-2 2v14c0 1.1.9 2 2 2h14c1.1 0 2-.9 2-2V5c0-1.1-.9-2-2-2zM9 17H7v-7h2v7zm4 0h-2V7h2v10zm4 0h-2v-4h2v4z\"/>\n",
              "    </g>\n",
              "</svg>\n",
              "  </button>\n",
              "\n",
              "<style>\n",
              "  .colab-df-quickchart {\n",
              "      --bg-color: #E8F0FE;\n",
              "      --fill-color: #1967D2;\n",
              "      --hover-bg-color: #E2EBFA;\n",
              "      --hover-fill-color: #174EA6;\n",
              "      --disabled-fill-color: #AAA;\n",
              "      --disabled-bg-color: #DDD;\n",
              "  }\n",
              "\n",
              "  [theme=dark] .colab-df-quickchart {\n",
              "      --bg-color: #3B4455;\n",
              "      --fill-color: #D2E3FC;\n",
              "      --hover-bg-color: #434B5C;\n",
              "      --hover-fill-color: #FFFFFF;\n",
              "      --disabled-bg-color: #3B4455;\n",
              "      --disabled-fill-color: #666;\n",
              "  }\n",
              "\n",
              "  .colab-df-quickchart {\n",
              "    background-color: var(--bg-color);\n",
              "    border: none;\n",
              "    border-radius: 50%;\n",
              "    cursor: pointer;\n",
              "    display: none;\n",
              "    fill: var(--fill-color);\n",
              "    height: 32px;\n",
              "    padding: 0;\n",
              "    width: 32px;\n",
              "  }\n",
              "\n",
              "  .colab-df-quickchart:hover {\n",
              "    background-color: var(--hover-bg-color);\n",
              "    box-shadow: 0 1px 2px rgba(60, 64, 67, 0.3), 0 1px 3px 1px rgba(60, 64, 67, 0.15);\n",
              "    fill: var(--button-hover-fill-color);\n",
              "  }\n",
              "\n",
              "  .colab-df-quickchart-complete:disabled,\n",
              "  .colab-df-quickchart-complete:disabled:hover {\n",
              "    background-color: var(--disabled-bg-color);\n",
              "    fill: var(--disabled-fill-color);\n",
              "    box-shadow: none;\n",
              "  }\n",
              "\n",
              "  .colab-df-spinner {\n",
              "    border: 2px solid var(--fill-color);\n",
              "    border-color: transparent;\n",
              "    border-bottom-color: var(--fill-color);\n",
              "    animation:\n",
              "      spin 1s steps(1) infinite;\n",
              "  }\n",
              "\n",
              "  @keyframes spin {\n",
              "    0% {\n",
              "      border-color: transparent;\n",
              "      border-bottom-color: var(--fill-color);\n",
              "      border-left-color: var(--fill-color);\n",
              "    }\n",
              "    20% {\n",
              "      border-color: transparent;\n",
              "      border-left-color: var(--fill-color);\n",
              "      border-top-color: var(--fill-color);\n",
              "    }\n",
              "    30% {\n",
              "      border-color: transparent;\n",
              "      border-left-color: var(--fill-color);\n",
              "      border-top-color: var(--fill-color);\n",
              "      border-right-color: var(--fill-color);\n",
              "    }\n",
              "    40% {\n",
              "      border-color: transparent;\n",
              "      border-right-color: var(--fill-color);\n",
              "      border-top-color: var(--fill-color);\n",
              "    }\n",
              "    60% {\n",
              "      border-color: transparent;\n",
              "      border-right-color: var(--fill-color);\n",
              "    }\n",
              "    80% {\n",
              "      border-color: transparent;\n",
              "      border-right-color: var(--fill-color);\n",
              "      border-bottom-color: var(--fill-color);\n",
              "    }\n",
              "    90% {\n",
              "      border-color: transparent;\n",
              "      border-bottom-color: var(--fill-color);\n",
              "    }\n",
              "  }\n",
              "</style>\n",
              "\n",
              "  <script>\n",
              "    async function quickchart(key) {\n",
              "      const quickchartButtonEl =\n",
              "        document.querySelector('#' + key + ' button');\n",
              "      quickchartButtonEl.disabled = true;  // To prevent multiple clicks.\n",
              "      quickchartButtonEl.classList.add('colab-df-spinner');\n",
              "      try {\n",
              "        const charts = await google.colab.kernel.invokeFunction(\n",
              "            'suggestCharts', [key], {});\n",
              "      } catch (error) {\n",
              "        console.error('Error during call to suggestCharts:', error);\n",
              "      }\n",
              "      quickchartButtonEl.classList.remove('colab-df-spinner');\n",
              "      quickchartButtonEl.classList.add('colab-df-quickchart-complete');\n",
              "    }\n",
              "    (() => {\n",
              "      let quickchartButtonEl =\n",
              "        document.querySelector('#df-6f24a77b-591e-45bd-a429-63e719f749cc button');\n",
              "      quickchartButtonEl.style.display =\n",
              "        google.colab.kernel.accessAllowed ? 'block' : 'none';\n",
              "    })();\n",
              "  </script>\n",
              "</div>\n",
              "\n",
              "    </div>\n",
              "  </div>\n"
            ],
            "application/vnd.google.colaboratory.intrinsic+json": {
              "type": "dataframe",
              "variable_name": "train_df",
              "summary": "{\n  \"name\": \"train_df\",\n  \"rows\": 2860,\n  \"fields\": [\n    {\n      \"column\": \"md5hash\",\n      \"properties\": {\n        \"dtype\": \"string\",\n        \"num_unique_values\": 2860,\n        \"samples\": [\n          \"3be5d580b67406152ee65b85d465db27.jpg\",\n          \"6cba1a3c302571165ea1d3f81f0ddf5b.jpg\",\n          \"50c46e531f7b08351275d5b36993dbbf.jpg\"\n        ],\n        \"semantic_type\": \"\",\n        \"description\": \"\"\n      }\n    },\n    {\n      \"column\": \"fitzpatrick_scale\",\n      \"properties\": {\n        \"dtype\": \"number\",\n        \"std\": 1,\n        \"min\": -1,\n        \"max\": 6,\n        \"num_unique_values\": 7,\n        \"samples\": [\n          4,\n          1,\n          -1\n        ],\n        \"semantic_type\": \"\",\n        \"description\": \"\"\n      }\n    },\n    {\n      \"column\": \"fitzpatrick_centaur\",\n      \"properties\": {\n        \"dtype\": \"number\",\n        \"std\": 1,\n        \"min\": -1,\n        \"max\": 6,\n        \"num_unique_values\": 7,\n        \"samples\": [\n          4,\n          1,\n          2\n        ],\n        \"semantic_type\": \"\",\n        \"description\": \"\"\n      }\n    },\n    {\n      \"column\": \"label\",\n      \"properties\": {\n        \"dtype\": \"category\",\n        \"num_unique_values\": 21,\n        \"samples\": [\n          \"prurigo-nodularis\",\n          \"kaposi-sarcoma\",\n          \"pyogenic-granuloma\"\n        ],\n        \"semantic_type\": \"\",\n        \"description\": \"\"\n      }\n    },\n    {\n      \"column\": \"nine_partition_label\",\n      \"properties\": {\n        \"dtype\": \"category\",\n        \"num_unique_values\": 7,\n        \"samples\": [\n          \"benign-epidermal\",\n          \"malignant-epidermal\",\n          \"benign-dermal\"\n        ],\n        \"semantic_type\": \"\",\n        \"description\": \"\"\n      }\n    },\n    {\n      \"column\": \"three_partition_label\",\n      \"properties\": {\n        \"dtype\": \"category\",\n        \"num_unique_values\": 3,\n        \"samples\": [\n          \"benign\",\n          \"malignant\",\n          \"non-neoplastic\"\n        ],\n        \"semantic_type\": \"\",\n        \"description\": \"\"\n      }\n    },\n    {\n      \"column\": \"qc\",\n      \"properties\": {\n        \"dtype\": \"category\",\n        \"num_unique_values\": 5,\n        \"samples\": [\n          \"3 Wrongly labelled\",\n          \"2 Characteristic\",\n          \"5 Potentially\"\n        ],\n        \"semantic_type\": \"\",\n        \"description\": \"\"\n      }\n    },\n    {\n      \"column\": \"ddi_scale\",\n      \"properties\": {\n        \"dtype\": \"number\",\n        \"std\": 15,\n        \"min\": -1,\n        \"max\": 56,\n        \"num_unique_values\": 4,\n        \"samples\": [\n          12,\n          -1,\n          34\n        ],\n        \"semantic_type\": \"\",\n        \"description\": \"\"\n      }\n    },\n    {\n      \"column\": \"file_path\",\n      \"properties\": {\n        \"dtype\": \"string\",\n        \"num_unique_values\": 2860,\n        \"samples\": [\n          \"prurigo-nodularis/3be5d580b67406152ee65b85d465db27.jpg\",\n          \"eczema/6cba1a3c302571165ea1d3f81f0ddf5b.jpg\",\n          \"keloid/50c46e531f7b08351275d5b36993dbbf.jpg\"\n        ],\n        \"semantic_type\": \"\",\n        \"description\": \"\"\n      }\n    }\n  ]\n}"
            }
          },
          "metadata": {},
          "execution_count": 20
        }
      ],
      "source": [
        "# Check the first few rows to understand the structure\n",
        "train_df.head()"
      ]
    },
    {
      "cell_type": "markdown",
      "metadata": {
        "id": "P7djJQcCFsxX"
      },
      "source": [
        "## **2. Analyzing the Data**"
      ]
    },
    {
      "cell_type": "code",
      "execution_count": 21,
      "metadata": {
        "id": "hx6hXPs9F1FM",
        "colab": {
          "base_uri": "https://localhost:8080/"
        },
        "outputId": "1cc09052-959c-4766-dcbe-3f532ac43a6a"
      },
      "outputs": [
        {
          "output_type": "stream",
          "name": "stdout",
          "text": [
            "acne\t\t\t\t  dyshidrotic-eczema  melanoma\n",
            "acne-vulgaris\t\t\t  eczema\t      mycosis-fungoides\n",
            "actinic-keratosis\t\t  epidermal-nevus     prurigo-nodularis\n",
            "basal-cell-carcinoma\t\t  folliculitis\t      pyogenic-granuloma\n",
            "basal-cell-carcinoma-morpheiform  kaposi-sarcoma      seborrheic-keratosis\n",
            "dermatofibroma\t\t\t  keloid\t      squamous-cell-carcinoma\n",
            "dermatomyositis\t\t\t  malignant-melanoma  superficial-spreading-melanoma-ssm\n"
          ]
        }
      ],
      "source": [
        "!ls train/train/"
      ]
    },
    {
      "cell_type": "code",
      "execution_count": 22,
      "metadata": {
        "id": "yqTyjaEzHDOe",
        "colab": {
          "base_uri": "https://localhost:8080/"
        },
        "outputId": "f785c958-aaff-47bb-87d4-703b00623c22"
      },
      "outputs": [
        {
          "output_type": "stream",
          "name": "stdout",
          "text": [
            "Number of prurigo-nodularis: 119\n",
            "Number of acne: 128\n",
            "Number of eczema: 143\n",
            "Number of mycosis-fungoides: 127\n",
            "Number of basal-cell-carcinoma: 328\n",
            "Number of folliculitis: 239\n",
            "Number of superficial-spreading-melanoma-ssm: 83\n",
            "Number of keloid: 109\n",
            "Number of dyshidrotic-eczema: 58\n",
            "Number of basal-cell-carcinoma-morpheiform: 43\n",
            "Number of acne-vulgaris: 234\n",
            "Number of seborrheic-keratosis: 48\n",
            "Number of melanoma: 181\n",
            "Number of dermatofibroma: 55\n",
            "Number of dermatomyositis: 106\n",
            "Number of squamous-cell-carcinoma: 407\n",
            "Number of pyogenic-granuloma: 79\n",
            "Number of actinic-keratosis: 122\n",
            "Number of kaposi-sarcoma: 109\n",
            "Number of epidermal-nevus: 64\n",
            "Number of malignant-melanoma: 78\n"
          ]
        }
      ],
      "source": [
        "# Number of images in each directory\n",
        "training_folder = \"./train/train/\"\n",
        "labels = [folder_name for folder_name in os.listdir(training_folder)]\n",
        "\n",
        "\n",
        "for folder_name in labels:\n",
        "  print(f\"Number of {folder_name}:\", len(os.listdir(training_folder + folder_name)))"
      ]
    },
    {
      "cell_type": "markdown",
      "metadata": {
        "id": "Kqz7knPcqU38"
      },
      "source": [
        "### Visualize a random sample of the data to analyze bias"
      ]
    },
    {
      "cell_type": "code",
      "execution_count": 23,
      "metadata": {
        "id": "AMNn57SOqUhg",
        "colab": {
          "base_uri": "https://localhost:8080/"
        },
        "outputId": "0c44efb0-3987-494d-b036-9ef6b7e157c1"
      },
      "outputs": [
        {
          "output_type": "stream",
          "name": "stdout",
          "text": [
            "Found 2860 files belonging to 21 classes.\n",
            "Using 2288 files for training.\n",
            "Using 572 files for validation.\n"
          ]
        }
      ],
      "source": [
        "import keras\n",
        "\n",
        "image_size = (180, 180)  # Target dimensions for resizing images (height, width).\n",
        "batch_size = 32  # Number of images processed in a single batch during training.\n",
        "# Note: A batch size of 128 (common in other setups) may exceed Colab's memory limits, causing crashes.\n",
        "# The chosen batch size of 32 balances memory usage and runtime, with an estimated runtime of ~3 hours.\n",
        "\n",
        "train_ds, val_ds = keras.utils.image_dataset_from_directory(\n",
        "    \"./train/train/\",       # Path to the directory containing the dataset.\n",
        "    validation_split=0.2,    # Specify that 20% of the dataset will be used for validation.\n",
        "    subset=\"both\",           # Create both training and validation datasets from the directory.\n",
        "    seed=42,                 # Random seed to ensure reproducibility when shuffling the data.\n",
        "    image_size=image_size,   # Resize all images to the specified dimensions (180x180).\n",
        "    batch_size=batch_size,   # Divide the dataset into batches of the specified size (32 images per batch).\n",
        ")"
      ]
    },
    {
      "cell_type": "code",
      "execution_count": 24,
      "metadata": {
        "id": "KqE2lrHNW5WT",
        "colab": {
          "base_uri": "https://localhost:8080/",
          "height": 881
        },
        "outputId": "b16495c7-e3d5-43bf-8d56-eb32c722ed0c"
      },
      "outputs": [
        {
          "output_type": "stream",
          "name": "stdout",
          "text": [
            "tf.Tensor(\n",
            "[ 6 13  1 16  8  2  3 14  3  8 19 14  7 10 12 15  6 19 11 10 14  0 14  2\n",
            " 19 18 19 10 17 10 12 10], shape=(32,), dtype=int32)\n"
          ]
        },
        {
          "output_type": "display_data",
          "data": {
            "text/plain": [
              "<Figure size 1000x1000 with 9 Axes>"
            ],
            "image/png": "[encoded data removed]"
          },
          "metadata": {}
        }
      ],
      "source": [
        "import matplotlib.pyplot as plt\n",
        "\n",
        "plt.figure(figsize=(10, 10))\n",
        "for images, labels in train_ds.take(1):\n",
        "    print(labels)\n",
        "    for i in range(9):\n",
        "        ax = plt.subplot(3, 3, i + 1)\n",
        "        # plt.imshow(np.array(images[i]).astype(\"uint8\"))\n",
        "        plt.title(str(int(labels[i])))\n",
        "        plt.axis(\"off\")"
      ]
    },
    {
      "cell_type": "markdown",
      "metadata": {
        "id": "XX0vbwrS5-_9"
      },
      "source": [
        "## **3. Data Preprocessing**"
      ]
    },
    {
      "cell_type": "code",
      "execution_count": 26,
      "metadata": {
        "id": "wGe1D0Uw6A5C"
      },
      "outputs": [],
      "source": [
        "from sklearn.preprocessing import LabelEncoder\n",
        "from sklearn.model_selection import train_test_split\n",
        "from tensorflow.keras.preprocessing.image import ImageDataGenerator\n",
        "\n",
        "# 3. Data Preprocessing\n",
        "# Encode the labels\n",
        "label_encoder = LabelEncoder()\n",
        "train_df['encoded_label'] = label_encoder.fit_transform(train_df['label'])\n",
        "\n",
        "# Split the data into training and validation sets\n",
        "train_data, val_data = train_test_split(train_df, test_size=0.2, random_state=42)\n",
        "\n",
        "# Define image data generators for training and validation\n",
        "train_datagen = ImageDataGenerator(rescale=1./255)\n",
        "val_datagen = ImageDataGenerator(rescale=1./255)\n",
        "\n",
        "# Define the directory paths\n",
        "train_dir = './train/train/'"
      ]
    },
    {
      "cell_type": "code",
      "execution_count": 27,
      "metadata": {
        "id": "gB7em3LH6J5f"
      },
      "outputs": [],
      "source": [
        "def create_generator(dataframe, directory, batch_size=32, target_size=(128, 128)):\n",
        "    \"\"\"\n",
        "    Template function to create image generators.\n",
        "    Students should complete this function to load images and labels properly.\n",
        "    \"\"\"\n",
        "    # Fill in the correct flow_from_dataframe parameters\n",
        "    generator = train_datagen.flow_from_dataframe(\n",
        "        dataframe=dataframe,\n",
        "        directory=directory,\n",
        "        x_col='file_path',  # Use combined path\n",
        "        y_col='encoded_label',\n",
        "        target_size=target_size,\n",
        "        batch_size=batch_size,\n",
        "        class_mode='raw',\n",
        "        validate_filenames=False  # Disable strict filename validation\n",
        "    )\n",
        "    return generator"
      ]
    },
    {
      "cell_type": "code",
      "execution_count": 28,
      "metadata": {
        "id": "vs855I4E6MMs",
        "colab": {
          "base_uri": "https://localhost:8080/"
        },
        "outputId": "3239b2f9-3499-4d38-f2c2-83ca09ae6ca5"
      },
      "outputs": [
        {
          "output_type": "stream",
          "name": "stdout",
          "text": [
            "Found 2288 non-validated image filenames.\n",
            "Found 572 non-validated image filenames.\n"
          ]
        }
      ],
      "source": [
        "# Create generators\n",
        "train_generator = create_generator(train_data, train_dir)\n",
        "val_generator = create_generator(val_data, train_dir)"
      ]
    },
    {
      "cell_type": "markdown",
      "metadata": {
        "id": "iPKBRDJ36O-_"
      },
      "source": [
        "## **4. Build Model**"
      ]
    },
    {
      "cell_type": "code",
      "execution_count": 49,
      "metadata": {
        "id": "w5-XiIaP5nnD"
      },
      "outputs": [],
      "source": [
        "# 1. Import Necessary Libraries\n",
        "import numpy as np\n",
        "\n",
        "from tensorflow.keras.models import Sequential\n",
        "from tensorflow.keras.layers import Conv2D, MaxPooling2D, Flatten, Dense, Dropout\n",
        "from tensorflow.keras.callbacks import EarlyStopping\n",
        "from tensorflow.keras.utils import image_dataset_from_directory"
      ]
    },
    {
      "cell_type": "code",
      "execution_count": null,
      "metadata": {
        "id": "WZo6RKNg6N87"
      },
      "outputs": [],
      "source": [
        "# TODO: You should implement the model architecture here.\n",
        "# Feel free to explore different model types that best serve your purpose.\n",
        "\n",
        "\"\"\"\n",
        "From: Evaluating Deep Neural Networks Trained on Skin Images with the Fitzpatrick 17k Dataset (Full)\n",
        "\n",
        "dataloaders, dataset_sizes = custom_load(\n",
        "  256,\n",
        "  20,\n",
        "  \"{}\".format(train_path),\n",
        "  \"{}\".format(test_path))\n",
        "model_ft = models.vgg18(pretrained=True)\n",
        "for param in model_ft.parameters():\n",
        "  param.requires_grad = False\n",
        "model_ft.classifier[6] = nn.Sequential(\n",
        "  nn.Linear(4096, 256),\n",
        "  nn.ReLU(),\n",
        "  nn.Dropout(0.4),\n",
        "  nn.Linear(256, len(label_codes)),\n",
        "  nn.LogSoftmax(dim=1))\n",
        "\n",
        "transform = transforms.Compose([\n",
        "  transforms.ToPILImage(),\n",
        "  transforms.RandomResizedCrop(size=256, scale=(0.8, 1.0)),\n",
        "  transforms.RandomRotation(degrees=15),\n",
        "  transforms.ColorJitter(),\n",
        "  transforms.RandomHorizontalFlip(),\n",
        "  transforms.CenterCrop(size=224), # Image net standards\n",
        "  transforms.ToTensor(),\n",
        "  transforms.Normalize([0.485, 0.456, 0.406],\n",
        "                       [0.229, 0.224, 0.225])\n",
        "])\n",
        "\"\"\""
      ]
    },
    {
      "cell_type": "markdown",
      "metadata": {
        "id": "xClNa-pd6Se0"
      },
      "source": [
        "## **5. Train Model**"
      ]
    },
    {
      "cell_type": "code",
      "execution_count": null,
      "metadata": {
        "id": "A-XRoVw26YSf"
      },
      "outputs": [],
      "source": [
        "# TODO: Train your model here."
      ]
    },
    {
      "cell_type": "markdown",
      "metadata": {
        "id": "s3gaHTeP6Y09"
      },
      "source": [
        "## **6. Make Predictions on Test Data**"
      ]
    },
    {
      "cell_type": "code",
      "execution_count": null,
      "metadata": {
        "id": "aRE3QtDG6eJY"
      },
      "outputs": [],
      "source": [
        "# 6. Make Predictions on Test Data\n",
        "def preprocess_test_data(test_df, directory):\n",
        "    \"\"\"\n",
        "    Template for loading and preprocessing test images.\n",
        "    \"\"\"\n",
        "    # TODO: create a generator for the test set here.\n",
        "    # test_datagen = ImageDataGenerator(rescale=1./255)\n",
        "    # test_generator = test_datagen.flow_from_dataframe(\n",
        "    #     .... ## set the test_generator here\n",
        "    # )\n",
        "    # return test_generator\n",
        "    test_datagen = ImageDataGenerator(rescale=1./255)  # Normalize pixel values\n",
        "\n",
        "    test_generator = test_datagen.flow_from_dataframe(\n",
        "        dataframe=test_df,\n",
        "        directory=directory,\n",
        "        x_col=\"md5hash\",  # Ensure this column exists in test_df\n",
        "        target_size=(224, 224),  # Match model input size\n",
        "        batch_size=16,  # Adjust batch size based on memory\n",
        "        class_mode=None,  # No labels since we are predicting\n",
        "        shuffle=False  # Keep order for correct mapping\n",
        "    )\n",
        "\n",
        "    return test_generator"
      ]
    },
    {
      "cell_type": "code",
      "execution_count": null,
      "metadata": {
        "id": "HsWFC1316hIa"
      },
      "outputs": [],
      "source": [
        "# Load test data\n",
        "# test_dir = data_path + '/bttai-ajl-2025/test/test/'\n",
        "# # test_generator = preprocess_test_data(test_df, test_dir)\n",
        "\n",
        "import tensorflow as tf\n",
        "from tensorflow.keras.models import load_model\n",
        "from tensorflow.keras.utils import get_custom_objects\n",
        "from tensorflow.keras.applications import EfficientNetB0\n",
        "\n",
        "# First define any custom classes/functions if needed\n",
        "class Cast(tf.keras.layers.Layer):\n",
        "    def __init__(self, **kwargs):\n",
        "        super(Cast, self).__init__(**kwargs)\n",
        "\n",
        "    def call(self, inputs):\n",
        "        return tf.cast(inputs, tf.float32)\n",
        "\n",
        "# Register custom objects, this is neeeded for the model I found, we will change this in the future\n",
        "custom_objects = {\n",
        "    'Cast': Cast,\n",
        "    'EfficientNetB0': EfficientNetB0,\n",
        "}\n",
        "\n",
        "# Update the custom objects registry\n",
        "get_custom_objects().update(custom_objects)\n",
        "\n",
        "# Load the model with custom objects\n",
        "model = load_model(\n",
        "    \"/content/mobilenetv2_baseline.h5\",\n",
        "    custom_objects=custom_objects\n",
        ")\n",
        "\n",
        "test_dir = os.path.join(data_path, 'bttai-ajl-2025/test/test/')\n",
        "test_generator = preprocess_test_data(test_df, test_dir)\n",
        "predictions = model.predict(test_generator)\n",
        "predicted_labels = np.argmax(predictions, axis=1)\n",
        "test_df[\"predictions\"] = predicted_labels"
      ]
    },
    {
      "cell_type": "markdown",
      "metadata": {
        "id": "GXSG72v_6hyc"
      },
      "source": [
        "## **7. Generate Predictions**"
      ]
    },
    {
      "cell_type": "code",
      "execution_count": null,
      "metadata": {
        "id": "yl2Xar9E6lVW"
      },
      "outputs": [],
      "source": [
        "# TODO\n",
        "# Generate predictions based on the trained model\n",
        "# Then, save the predictions into a CSV file for submission\n",
        "\n",
        "# Load the sample submission file\n",
        "sample_submission = pd.read_csv(\"./sample_submission.csv\")\n",
        "\n",
        "# Generate predictions\n",
        "predictions = model.predict(test_generator)  # Output is a probability distribution\n",
        "\n",
        "# Convert probabilities to class indices\n",
        "predicted_indices = np.argmax(predictions, axis=1)  # Get the index of the highest probability\n",
        "\n",
        "# Convert indices back to class names using label encoder\n",
        "predicted_labels = label_encoder.inverse_transform(predicted_indices)  # Convert to class names\n",
        "\n",
        "# Ensure predictions match the format of sample_submission\n",
        "submission = sample_submission.copy()\n",
        "submission.iloc[:, 1] = predicted_labels  # Assign class names\n",
        "\n",
        "# Save the corrected predictions to CSV\n",
        "submission.to_csv(\"submission.csv\", index=False)\n",
        "\n",
        "print(\"Predictions saved to submission.csv with class labels!\")"
      ]
    }
  ],
  "metadata": {
    "colab": {
      "collapsed_sections": [
        "YGK8HXRvYh14"
      ],
      "provenance": [],
      "include_colab_link": true
    },
    "kernelspec": {
      "display_name": "Python 3",
      "name": "python3"
    },
    "language_info": {
      "name": "python"
    }
  },
  "nbformat": 4,
  "nbformat_minor": 0
}