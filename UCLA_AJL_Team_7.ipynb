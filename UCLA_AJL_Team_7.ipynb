{
  "nbformat": 4,
  "nbformat_minor": 0,
  "metadata": {
    "colab": {
      "provenance": [],
      "include_colab_link": true
    },
    "kernelspec": {
      "name": "python3",
      "display_name": "Python 3"
    },
    "language_info": {
      "name": "python"
    }
  },
  "cells": [
    {
      "cell_type": "markdown",
      "metadata": {
        "id": "view-in-github",
        "colab_type": "text"
      },
      "source": [
        "<a href=\"https://colab.research.google.com/github/wwidjaja0/ucla-ajl-7/blob/main/UCLA_AJL_Team_7.ipynb\" target=\"_parent\"><img src=\"https://colab.research.google.com/assets/colab-badge.svg\" alt=\"Open In Colab\"/></a>"
      ]
    },
    {
      "cell_type": "markdown",
      "source": [
        "# **UCLA AJI Team 7**"
      ],
      "metadata": {
        "id": "diijdWiX_6I6"
      }
    },
    {
      "cell_type": "markdown",
      "source": [
        "\n",
        "\n",
        "---\n",
        "\n",
        "\n",
        "**Resources and Documents:**  \n",
        "[Notion](https://www.notion.so/team/18610071-e06a-812f-98e5-004281f76263/join) | [Google Drive](https://drive.google.com/drive/folders/1uNRJqQwA9hGX1WO9Tq-dfMP-ASt_dR5L?usp=sharing) | [Github Repo](https://github.com/wwidjaja0/ucla-aji-7)\n",
        "\n",
        "---\n",
        "\n",
        "**Summary**"
      ],
      "metadata": {
        "id": "nqryR7MowCEx"
      }
    },
    {
      "cell_type": "markdown",
      "source": [
        "## **How to setup/contribute to this Colab**\n",
        "Every time you make contributions/changes to this file, please follow the steps below for version control."
      ],
      "metadata": {
        "id": "YGK8HXRvYh14"
      }
    },
    {
      "cell_type": "markdown",
      "source": [
        "### 1. Click save a copy in GitHub\n",
        "\n",
        "![saveacopy.png](https://i.imghippo.com/files/GqN7306fLg.png)\n",
        "\n",
        "### 2. MAKE SURE YOU'RE SAVING IT TO THE RIGHT REPO (it should be <your username>/ucla-ajl-7)\n",
        "### 3. Feel free to add a commit message to let others know/for documentation what you changed/did.\n",
        "\n",
        "![commit.png](https://i.imghippo.com/files/JOJ9352xYs.png)"
      ],
      "metadata": {
        "id": "nYfDqHvvZ6U2"
      }
    },
    {
      "cell_type": "markdown",
      "source": [
        "## **Code**"
      ],
      "metadata": {
        "id": "kuHz3aonxZUe"
      }
    },
    {
      "cell_type": "code",
      "source": [
        "from google.colab import drive\n",
        "drive.mount('/content/drive')"
      ],
      "metadata": {
        "colab": {
          "base_uri": "https://localhost:8080/"
        },
        "id": "DbRDsHrT58xb",
        "outputId": "8a69c6ec-52b7-4718-845c-ca2dad312714"
      },
      "execution_count": 26,
      "outputs": [
        {
          "output_type": "stream",
          "name": "stdout",
          "text": [
            "Drive already mounted at /content/drive; to attempt to forcibly remount, call drive.mount(\"/content/drive\", force_remount=True).\n"
          ]
        }
      ]
    },
    {
      "cell_type": "markdown",
      "source": [
        "Load the data"
      ],
      "metadata": {
        "id": "7FJGPyg270m0"
      }
    },
    {
      "cell_type": "code",
      "source": [
        "data_path = \"/content/drive/MyDrive/Colab_Notebooks/UCLA_AJL_7\""
      ],
      "metadata": {
        "id": "wDd8znlJjwd3"
      },
      "execution_count": 27,
      "outputs": []
    },
    {
      "cell_type": "markdown",
      "source": [
        "Check Skin Tone Distribution: Use Fitzpatrick skin type classifiers to analyze the dataset."
      ],
      "metadata": {
        "id": "KXCazui81AjC"
      }
    },
    {
      "cell_type": "markdown",
      "source": [
        "## **1. Import Libraries**"
      ],
      "metadata": {
        "id": "3_ABc6UK5ubH"
      }
    },
    {
      "cell_type": "code",
      "source": [
        "# 1. Import Necessary Libraries\n",
        "\"\"\"\n",
        "import os\n",
        "import numpy as np\n",
        "import pandas as pd\n",
        "from collections import Counter\n",
        "import keras\n",
        "from keras import Sequential\n",
        "from keras import layers\n",
        "from keras.layers import Conv2D,MaxPool2D,Dense,Flatten,BatchNormalization,Dropout, Input\n",
        "from keras.optimizers import Adam\n",
        "from PIL import Image\n",
        "from tensorflow import data as tf_data\n",
        "import matplotlib.pyplot as plt\n",
        "from keras.preprocessing import image\n",
        "from sklearn.model_selection import train_test_split\n",
        "from tqdm import tqdm\n",
        "\"\"\"\n",
        "\n",
        "import pandas as pd\n",
        "import numpy as np\n",
        "import os\n",
        "from sklearn.model_selection import train_test_split\n",
        "from sklearn.preprocessing import LabelEncoder\n",
        "from tensorflow.keras.preprocessing.image import ImageDataGenerator\n",
        "from tensorflow.keras.models import Sequential\n",
        "from tensorflow.keras.layers import Conv2D, MaxPooling2D, Flatten, Dense, Dropout\n",
        "from tensorflow.keras.callbacks import EarlyStopping\n",
        "\n",
        "# Explanation:\n",
        "# - pandas and numpy: for data manipulation\n",
        "# - sklearn: for splitting data and encoding labels\n",
        "# - tensorflow.keras: for building and training the neural network"
      ],
      "metadata": {
        "id": "w5-XiIaP5nnD"
      },
      "execution_count": 28,
      "outputs": []
    },
    {
      "cell_type": "markdown",
      "source": [
        "## **2. Load Data**"
      ],
      "metadata": {
        "id": "LZE4N06h52rj"
      }
    },
    {
      "cell_type": "code",
      "source": [
        "# 2. Load Data\n",
        "train_df = pd.read_csv(data_path + '/bttai-ajl-2025/train.csv')\n",
        "test_df = pd.read_csv(data_path + '/bttai-ajl-2025/test.csv')\n",
        "\n",
        "# Add .jpg extension to md5hash column to reference the file_name\n",
        "train_df['md5hash'] = train_df['md5hash'].astype(str) + '.jpg'\n",
        "test_df['md5hash'] = test_df['md5hash'].astype(str) + '.jpg'\n",
        "\n",
        "# Combine label and md5hash to form the correct path\n",
        "train_df['file_path'] = train_df['label'] + '/' + train_df['md5hash']"
      ],
      "metadata": {
        "id": "bXJnbGEc52fA"
      },
      "execution_count": 29,
      "outputs": []
    },
    {
      "cell_type": "code",
      "source": [
        "# Check the first few rows to understand the structure\n",
        "train_df.head()"
      ],
      "metadata": {
        "id": "InKRID-O58zm",
        "colab": {
          "base_uri": "https://localhost:8080/",
          "height": 330
        },
        "outputId": "d0b7d87e-1cd2-4e96-cd9f-7b43d5668dbd"
      },
      "execution_count": 30,
      "outputs": [
        {
          "output_type": "execute_result",
          "data": {
            "text/plain": [
              "                                md5hash  fitzpatrick_scale  \\\n",
              "0  fd06d13de341cc75ad679916c5d7e6a6.jpg                  4   \n",
              "1  a4bb4e5206c4e89a303f470576fc5253.jpg                  1   \n",
              "2  c94ce27e389f96bda998e7c3fa5c4a2e.jpg                  5   \n",
              "3  ebcf2b50dd943c700d4e2b586fcd4425.jpg                  3   \n",
              "4  c77d6c895f05fea73a8f3704307036c0.jpg                  1   \n",
              "\n",
              "   fitzpatrick_centaur                             label nine_partition_label  \\\n",
              "0                    4                 prurigo-nodularis     benign-epidermal   \n",
              "1                    1  basal-cell-carcinoma-morpheiform  malignant-epidermal   \n",
              "2                    5                            keloid         inflammatory   \n",
              "3                    3              basal-cell-carcinoma  malignant-epidermal   \n",
              "4                    1                 prurigo-nodularis     benign-epidermal   \n",
              "\n",
              "  three_partition_label            qc  ddi_scale  \\\n",
              "0                benign           NaN         34   \n",
              "1             malignant           NaN         12   \n",
              "2        non-neoplastic  1 Diagnostic         56   \n",
              "3             malignant           NaN         34   \n",
              "4                benign           NaN         12   \n",
              "\n",
              "                                           file_path  \n",
              "0  prurigo-nodularis/fd06d13de341cc75ad679916c5d7...  \n",
              "1  basal-cell-carcinoma-morpheiform/a4bb4e5206c4e...  \n",
              "2        keloid/c94ce27e389f96bda998e7c3fa5c4a2e.jpg  \n",
              "3  basal-cell-carcinoma/ebcf2b50dd943c700d4e2b586...  \n",
              "4  prurigo-nodularis/c77d6c895f05fea73a8f37043070...  "
            ],
            "text/html": [
              "\n",
              "  <div id=\"df-ca3218de-14a0-4b51-bd43-6f824c6bca9b\" class=\"colab-df-container\">\n",
              "    <div>\n",
              "<style scoped>\n",
              "    .dataframe tbody tr th:only-of-type {\n",
              "        vertical-align: middle;\n",
              "    }\n",
              "\n",
              "    .dataframe tbody tr th {\n",
              "        vertical-align: top;\n",
              "    }\n",
              "\n",
              "    .dataframe thead th {\n",
              "        text-align: right;\n",
              "    }\n",
              "</style>\n",
              "<table border=\"1\" class=\"dataframe\">\n",
              "  <thead>\n",
              "    <tr style=\"text-align: right;\">\n",
              "      <th></th>\n",
              "      <th>md5hash</th>\n",
              "      <th>fitzpatrick_scale</th>\n",
              "      <th>fitzpatrick_centaur</th>\n",
              "      <th>label</th>\n",
              "      <th>nine_partition_label</th>\n",
              "      <th>three_partition_label</th>\n",
              "      <th>qc</th>\n",
              "      <th>ddi_scale</th>\n",
              "      <th>file_path</th>\n",
              "    </tr>\n",
              "  </thead>\n",
              "  <tbody>\n",
              "    <tr>\n",
              "      <th>0</th>\n",
              "      <td>fd06d13de341cc75ad679916c5d7e6a6.jpg</td>\n",
              "      <td>4</td>\n",
              "      <td>4</td>\n",
              "      <td>prurigo-nodularis</td>\n",
              "      <td>benign-epidermal</td>\n",
              "      <td>benign</td>\n",
              "      <td>NaN</td>\n",
              "      <td>34</td>\n",
              "      <td>prurigo-nodularis/fd06d13de341cc75ad679916c5d7...</td>\n",
              "    </tr>\n",
              "    <tr>\n",
              "      <th>1</th>\n",
              "      <td>a4bb4e5206c4e89a303f470576fc5253.jpg</td>\n",
              "      <td>1</td>\n",
              "      <td>1</td>\n",
              "      <td>basal-cell-carcinoma-morpheiform</td>\n",
              "      <td>malignant-epidermal</td>\n",
              "      <td>malignant</td>\n",
              "      <td>NaN</td>\n",
              "      <td>12</td>\n",
              "      <td>basal-cell-carcinoma-morpheiform/a4bb4e5206c4e...</td>\n",
              "    </tr>\n",
              "    <tr>\n",
              "      <th>2</th>\n",
              "      <td>c94ce27e389f96bda998e7c3fa5c4a2e.jpg</td>\n",
              "      <td>5</td>\n",
              "      <td>5</td>\n",
              "      <td>keloid</td>\n",
              "      <td>inflammatory</td>\n",
              "      <td>non-neoplastic</td>\n",
              "      <td>1 Diagnostic</td>\n",
              "      <td>56</td>\n",
              "      <td>keloid/c94ce27e389f96bda998e7c3fa5c4a2e.jpg</td>\n",
              "    </tr>\n",
              "    <tr>\n",
              "      <th>3</th>\n",
              "      <td>ebcf2b50dd943c700d4e2b586fcd4425.jpg</td>\n",
              "      <td>3</td>\n",
              "      <td>3</td>\n",
              "      <td>basal-cell-carcinoma</td>\n",
              "      <td>malignant-epidermal</td>\n",
              "      <td>malignant</td>\n",
              "      <td>NaN</td>\n",
              "      <td>34</td>\n",
              "      <td>basal-cell-carcinoma/ebcf2b50dd943c700d4e2b586...</td>\n",
              "    </tr>\n",
              "    <tr>\n",
              "      <th>4</th>\n",
              "      <td>c77d6c895f05fea73a8f3704307036c0.jpg</td>\n",
              "      <td>1</td>\n",
              "      <td>1</td>\n",
              "      <td>prurigo-nodularis</td>\n",
              "      <td>benign-epidermal</td>\n",
              "      <td>benign</td>\n",
              "      <td>NaN</td>\n",
              "      <td>12</td>\n",
              "      <td>prurigo-nodularis/c77d6c895f05fea73a8f37043070...</td>\n",
              "    </tr>\n",
              "  </tbody>\n",
              "</table>\n",
              "</div>\n",
              "    <div class=\"colab-df-buttons\">\n",
              "\n",
              "  <div class=\"colab-df-container\">\n",
              "    <button class=\"colab-df-convert\" onclick=\"convertToInteractive('df-ca3218de-14a0-4b51-bd43-6f824c6bca9b')\"\n",
              "            title=\"Convert this dataframe to an interactive table.\"\n",
              "            style=\"display:none;\">\n",
              "\n",
              "  <svg xmlns=\"http://www.w3.org/2000/svg\" height=\"24px\" viewBox=\"0 -960 960 960\">\n",
              "    <path d=\"M120-120v-720h720v720H120Zm60-500h600v-160H180v160Zm220 220h160v-160H400v160Zm0 220h160v-160H400v160ZM180-400h160v-160H180v160Zm440 0h160v-160H620v160ZM180-180h160v-160H180v160Zm440 0h160v-160H620v160Z\"/>\n",
              "  </svg>\n",
              "    </button>\n",
              "\n",
              "  <style>\n",
              "    .colab-df-container {\n",
              "      display:flex;\n",
              "      gap: 12px;\n",
              "    }\n",
              "\n",
              "    .colab-df-convert {\n",
              "      background-color: #E8F0FE;\n",
              "      border: none;\n",
              "      border-radius: 50%;\n",
              "      cursor: pointer;\n",
              "      display: none;\n",
              "      fill: #1967D2;\n",
              "      height: 32px;\n",
              "      padding: 0 0 0 0;\n",
              "      width: 32px;\n",
              "    }\n",
              "\n",
              "    .colab-df-convert:hover {\n",
              "      background-color: #E2EBFA;\n",
              "      box-shadow: 0px 1px 2px rgba(60, 64, 67, 0.3), 0px 1px 3px 1px rgba(60, 64, 67, 0.15);\n",
              "      fill: #174EA6;\n",
              "    }\n",
              "\n",
              "    .colab-df-buttons div {\n",
              "      margin-bottom: 4px;\n",
              "    }\n",
              "\n",
              "    [theme=dark] .colab-df-convert {\n",
              "      background-color: #3B4455;\n",
              "      fill: #D2E3FC;\n",
              "    }\n",
              "\n",
              "    [theme=dark] .colab-df-convert:hover {\n",
              "      background-color: #434B5C;\n",
              "      box-shadow: 0px 1px 3px 1px rgba(0, 0, 0, 0.15);\n",
              "      filter: drop-shadow(0px 1px 2px rgba(0, 0, 0, 0.3));\n",
              "      fill: #FFFFFF;\n",
              "    }\n",
              "  </style>\n",
              "\n",
              "    <script>\n",
              "      const buttonEl =\n",
              "        document.querySelector('#df-ca3218de-14a0-4b51-bd43-6f824c6bca9b button.colab-df-convert');\n",
              "      buttonEl.style.display =\n",
              "        google.colab.kernel.accessAllowed ? 'block' : 'none';\n",
              "\n",
              "      async function convertToInteractive(key) {\n",
              "        const element = document.querySelector('#df-ca3218de-14a0-4b51-bd43-6f824c6bca9b');\n",
              "        const dataTable =\n",
              "          await google.colab.kernel.invokeFunction('convertToInteractive',\n",
              "                                                    [key], {});\n",
              "        if (!dataTable) return;\n",
              "\n",
              "        const docLinkHtml = 'Like what you see? Visit the ' +\n",
              "          '<a target=\"_blank\" href=https://colab.research.google.com/notebooks/data_table.ipynb>data table notebook</a>'\n",
              "          + ' to learn more about interactive tables.';\n",
              "        element.innerHTML = '';\n",
              "        dataTable['output_type'] = 'display_data';\n",
              "        await google.colab.output.renderOutput(dataTable, element);\n",
              "        const docLink = document.createElement('div');\n",
              "        docLink.innerHTML = docLinkHtml;\n",
              "        element.appendChild(docLink);\n",
              "      }\n",
              "    </script>\n",
              "  </div>\n",
              "\n",
              "\n",
              "<div id=\"df-18659bb0-fc2e-4602-98e5-1dcbb4141b8d\">\n",
              "  <button class=\"colab-df-quickchart\" onclick=\"quickchart('df-18659bb0-fc2e-4602-98e5-1dcbb4141b8d')\"\n",
              "            title=\"Suggest charts\"\n",
              "            style=\"display:none;\">\n",
              "\n",
              "<svg xmlns=\"http://www.w3.org/2000/svg\" height=\"24px\"viewBox=\"0 0 24 24\"\n",
              "     width=\"24px\">\n",
              "    <g>\n",
              "        <path d=\"M19 3H5c-1.1 0-2 .9-2 2v14c0 1.1.9 2 2 2h14c1.1 0 2-.9 2-2V5c0-1.1-.9-2-2-2zM9 17H7v-7h2v7zm4 0h-2V7h2v10zm4 0h-2v-4h2v4z\"/>\n",
              "    </g>\n",
              "</svg>\n",
              "  </button>\n",
              "\n",
              "<style>\n",
              "  .colab-df-quickchart {\n",
              "      --bg-color: #E8F0FE;\n",
              "      --fill-color: #1967D2;\n",
              "      --hover-bg-color: #E2EBFA;\n",
              "      --hover-fill-color: #174EA6;\n",
              "      --disabled-fill-color: #AAA;\n",
              "      --disabled-bg-color: #DDD;\n",
              "  }\n",
              "\n",
              "  [theme=dark] .colab-df-quickchart {\n",
              "      --bg-color: #3B4455;\n",
              "      --fill-color: #D2E3FC;\n",
              "      --hover-bg-color: #434B5C;\n",
              "      --hover-fill-color: #FFFFFF;\n",
              "      --disabled-bg-color: #3B4455;\n",
              "      --disabled-fill-color: #666;\n",
              "  }\n",
              "\n",
              "  .colab-df-quickchart {\n",
              "    background-color: var(--bg-color);\n",
              "    border: none;\n",
              "    border-radius: 50%;\n",
              "    cursor: pointer;\n",
              "    display: none;\n",
              "    fill: var(--fill-color);\n",
              "    height: 32px;\n",
              "    padding: 0;\n",
              "    width: 32px;\n",
              "  }\n",
              "\n",
              "  .colab-df-quickchart:hover {\n",
              "    background-color: var(--hover-bg-color);\n",
              "    box-shadow: 0 1px 2px rgba(60, 64, 67, 0.3), 0 1px 3px 1px rgba(60, 64, 67, 0.15);\n",
              "    fill: var(--button-hover-fill-color);\n",
              "  }\n",
              "\n",
              "  .colab-df-quickchart-complete:disabled,\n",
              "  .colab-df-quickchart-complete:disabled:hover {\n",
              "    background-color: var(--disabled-bg-color);\n",
              "    fill: var(--disabled-fill-color);\n",
              "    box-shadow: none;\n",
              "  }\n",
              "\n",
              "  .colab-df-spinner {\n",
              "    border: 2px solid var(--fill-color);\n",
              "    border-color: transparent;\n",
              "    border-bottom-color: var(--fill-color);\n",
              "    animation:\n",
              "      spin 1s steps(1) infinite;\n",
              "  }\n",
              "\n",
              "  @keyframes spin {\n",
              "    0% {\n",
              "      border-color: transparent;\n",
              "      border-bottom-color: var(--fill-color);\n",
              "      border-left-color: var(--fill-color);\n",
              "    }\n",
              "    20% {\n",
              "      border-color: transparent;\n",
              "      border-left-color: var(--fill-color);\n",
              "      border-top-color: var(--fill-color);\n",
              "    }\n",
              "    30% {\n",
              "      border-color: transparent;\n",
              "      border-left-color: var(--fill-color);\n",
              "      border-top-color: var(--fill-color);\n",
              "      border-right-color: var(--fill-color);\n",
              "    }\n",
              "    40% {\n",
              "      border-color: transparent;\n",
              "      border-right-color: var(--fill-color);\n",
              "      border-top-color: var(--fill-color);\n",
              "    }\n",
              "    60% {\n",
              "      border-color: transparent;\n",
              "      border-right-color: var(--fill-color);\n",
              "    }\n",
              "    80% {\n",
              "      border-color: transparent;\n",
              "      border-right-color: var(--fill-color);\n",
              "      border-bottom-color: var(--fill-color);\n",
              "    }\n",
              "    90% {\n",
              "      border-color: transparent;\n",
              "      border-bottom-color: var(--fill-color);\n",
              "    }\n",
              "  }\n",
              "</style>\n",
              "\n",
              "  <script>\n",
              "    async function quickchart(key) {\n",
              "      const quickchartButtonEl =\n",
              "        document.querySelector('#' + key + ' button');\n",
              "      quickchartButtonEl.disabled = true;  // To prevent multiple clicks.\n",
              "      quickchartButtonEl.classList.add('colab-df-spinner');\n",
              "      try {\n",
              "        const charts = await google.colab.kernel.invokeFunction(\n",
              "            'suggestCharts', [key], {});\n",
              "      } catch (error) {\n",
              "        console.error('Error during call to suggestCharts:', error);\n",
              "      }\n",
              "      quickchartButtonEl.classList.remove('colab-df-spinner');\n",
              "      quickchartButtonEl.classList.add('colab-df-quickchart-complete');\n",
              "    }\n",
              "    (() => {\n",
              "      let quickchartButtonEl =\n",
              "        document.querySelector('#df-18659bb0-fc2e-4602-98e5-1dcbb4141b8d button');\n",
              "      quickchartButtonEl.style.display =\n",
              "        google.colab.kernel.accessAllowed ? 'block' : 'none';\n",
              "    })();\n",
              "  </script>\n",
              "</div>\n",
              "\n",
              "    </div>\n",
              "  </div>\n"
            ],
            "application/vnd.google.colaboratory.intrinsic+json": {
              "type": "dataframe",
              "variable_name": "train_df",
              "summary": "{\n  \"name\": \"train_df\",\n  \"rows\": 2860,\n  \"fields\": [\n    {\n      \"column\": \"md5hash\",\n      \"properties\": {\n        \"dtype\": \"string\",\n        \"num_unique_values\": 2860,\n        \"samples\": [\n          \"3be5d580b67406152ee65b85d465db27.jpg\",\n          \"6cba1a3c302571165ea1d3f81f0ddf5b.jpg\",\n          \"50c46e531f7b08351275d5b36993dbbf.jpg\"\n        ],\n        \"semantic_type\": \"\",\n        \"description\": \"\"\n      }\n    },\n    {\n      \"column\": \"fitzpatrick_scale\",\n      \"properties\": {\n        \"dtype\": \"number\",\n        \"std\": 1,\n        \"min\": -1,\n        \"max\": 6,\n        \"num_unique_values\": 7,\n        \"samples\": [\n          4,\n          1,\n          -1\n        ],\n        \"semantic_type\": \"\",\n        \"description\": \"\"\n      }\n    },\n    {\n      \"column\": \"fitzpatrick_centaur\",\n      \"properties\": {\n        \"dtype\": \"number\",\n        \"std\": 1,\n        \"min\": -1,\n        \"max\": 6,\n        \"num_unique_values\": 7,\n        \"samples\": [\n          4,\n          1,\n          2\n        ],\n        \"semantic_type\": \"\",\n        \"description\": \"\"\n      }\n    },\n    {\n      \"column\": \"label\",\n      \"properties\": {\n        \"dtype\": \"category\",\n        \"num_unique_values\": 21,\n        \"samples\": [\n          \"prurigo-nodularis\",\n          \"kaposi-sarcoma\",\n          \"pyogenic-granuloma\"\n        ],\n        \"semantic_type\": \"\",\n        \"description\": \"\"\n      }\n    },\n    {\n      \"column\": \"nine_partition_label\",\n      \"properties\": {\n        \"dtype\": \"category\",\n        \"num_unique_values\": 7,\n        \"samples\": [\n          \"benign-epidermal\",\n          \"malignant-epidermal\",\n          \"benign-dermal\"\n        ],\n        \"semantic_type\": \"\",\n        \"description\": \"\"\n      }\n    },\n    {\n      \"column\": \"three_partition_label\",\n      \"properties\": {\n        \"dtype\": \"category\",\n        \"num_unique_values\": 3,\n        \"samples\": [\n          \"benign\",\n          \"malignant\",\n          \"non-neoplastic\"\n        ],\n        \"semantic_type\": \"\",\n        \"description\": \"\"\n      }\n    },\n    {\n      \"column\": \"qc\",\n      \"properties\": {\n        \"dtype\": \"category\",\n        \"num_unique_values\": 5,\n        \"samples\": [\n          \"3 Wrongly labelled\",\n          \"2 Characteristic\",\n          \"5 Potentially\"\n        ],\n        \"semantic_type\": \"\",\n        \"description\": \"\"\n      }\n    },\n    {\n      \"column\": \"ddi_scale\",\n      \"properties\": {\n        \"dtype\": \"number\",\n        \"std\": 15,\n        \"min\": -1,\n        \"max\": 56,\n        \"num_unique_values\": 4,\n        \"samples\": [\n          12,\n          -1,\n          34\n        ],\n        \"semantic_type\": \"\",\n        \"description\": \"\"\n      }\n    },\n    {\n      \"column\": \"file_path\",\n      \"properties\": {\n        \"dtype\": \"string\",\n        \"num_unique_values\": 2860,\n        \"samples\": [\n          \"prurigo-nodularis/3be5d580b67406152ee65b85d465db27.jpg\",\n          \"eczema/6cba1a3c302571165ea1d3f81f0ddf5b.jpg\",\n          \"keloid/50c46e531f7b08351275d5b36993dbbf.jpg\"\n        ],\n        \"semantic_type\": \"\",\n        \"description\": \"\"\n      }\n    }\n  ]\n}"
            }
          },
          "metadata": {},
          "execution_count": 30
        }
      ]
    },
    {
      "cell_type": "markdown",
      "source": [
        "## **3. Data Preprocessing**"
      ],
      "metadata": {
        "id": "XX0vbwrS5-_9"
      }
    },
    {
      "cell_type": "code",
      "source": [
        "# 3. Data Preprocessing\n",
        "# Encode the labels\n",
        "label_encoder = LabelEncoder()\n",
        "train_df['encoded_label'] = label_encoder.fit_transform(train_df['label'])\n",
        "\n",
        "# Split the data into training and validation sets\n",
        "train_data, val_data = train_test_split(train_df, test_size=0.2, random_state=42)\n",
        "\n",
        "# Define image data generators for training and validation\n",
        "train_datagen = ImageDataGenerator(rescale=1./255)\n",
        "val_datagen = ImageDataGenerator(rescale=1./255)\n",
        "\n",
        "# Define the directory paths\n",
        "train_dir = data_path + '/bttai-ajl-2025/train/train/'"
      ],
      "metadata": {
        "id": "wGe1D0Uw6A5C"
      },
      "execution_count": 31,
      "outputs": []
    },
    {
      "cell_type": "code",
      "source": [
        "def create_generator(dataframe, directory, batch_size=32, target_size=(128, 128)):\n",
        "    \"\"\"\n",
        "    Template function to create image generators.\n",
        "    Students should complete this function to load images and labels properly.\n",
        "    \"\"\"\n",
        "    # Fill in the correct flow_from_dataframe parameters\n",
        "    generator = train_datagen.flow_from_dataframe(\n",
        "        dataframe=dataframe,\n",
        "        directory=directory,\n",
        "        x_col='file_path',  # Use combined path\n",
        "        y_col='encoded_label',\n",
        "        target_size=target_size,\n",
        "        batch_size=batch_size,\n",
        "        class_mode='raw',\n",
        "        validate_filenames=False  # Disable strict filename validation\n",
        "    )\n",
        "    return generator"
      ],
      "metadata": {
        "id": "gB7em3LH6J5f"
      },
      "execution_count": 32,
      "outputs": []
    },
    {
      "cell_type": "code",
      "source": [
        "# Create generators\n",
        "train_generator = create_generator(train_data, train_dir)\n",
        "val_generator = create_generator(val_data, train_dir)"
      ],
      "metadata": {
        "id": "vs855I4E6MMs",
        "colab": {
          "base_uri": "https://localhost:8080/"
        },
        "outputId": "b18be959-1e17-48bd-dcde-15afaba876b3"
      },
      "execution_count": 37,
      "outputs": [
        {
          "output_type": "stream",
          "name": "stdout",
          "text": [
            "Found 2288 non-validated image filenames.\n",
            "Found 572 non-validated image filenames.\n"
          ]
        }
      ]
    },
    {
      "cell_type": "markdown",
      "source": [
        "## **4. Build Model**"
      ],
      "metadata": {
        "id": "iPKBRDJ36O-_"
      }
    },
    {
      "cell_type": "code",
      "source": [
        "# TODO: You should implement the model architecture here.\n",
        "# Feel free to explore different model types that best serve your purpose.\n",
        "\n",
        "\"\"\"\n",
        "From: Evaluating Deep Neural Networks Trained on Skin Images with the Fitzpatrick 17k Dataset (Full)\n",
        "\n",
        "dataloaders, dataset_sizes = custom_load(\n",
        "  256,\n",
        "  20,\n",
        "  \"{}\".format(train_path),\n",
        "  \"{}\".format(test_path))\n",
        "model_ft = models.vgg18(pretrained=True)\n",
        "for param in model_ft.parameters():\n",
        "  param.requires_grad = False\n",
        "model_ft.classifier[6] = nn.Sequential(\n",
        "  nn.Linear(4096, 256),\n",
        "  nn.ReLU(),\n",
        "  nn.Dropout(0.4),\n",
        "  nn.Linear(256, len(label_codes)),\n",
        "  nn.LogSoftmax(dim=1))\n",
        "\n",
        "transform = transforms.Compose([\n",
        "  transforms.ToPILImage(),\n",
        "  transforms.RandomResizedCrop(size=256, scale=(0.8, 1.0)),\n",
        "  transforms.RandomRotation(degrees=15),\n",
        "  transforms.ColorJitter(),\n",
        "  transforms.RandomHorizontalFlip(),\n",
        "  transforms.CenterCrop(size=224), # Image net standards\n",
        "  transforms.ToTensor(),\n",
        "  transforms.Normalize([0.485, 0.456, 0.406],\n",
        "                       [0.229, 0.224, 0.225])\n",
        "])\n",
        "\"\"\""
      ],
      "metadata": {
        "id": "WZo6RKNg6N87"
      },
      "execution_count": null,
      "outputs": []
    },
    {
      "cell_type": "markdown",
      "source": [
        "## **5. Train Model**"
      ],
      "metadata": {
        "id": "xClNa-pd6Se0"
      }
    },
    {
      "cell_type": "code",
      "source": [
        "# TODO: Train your model here."
      ],
      "metadata": {
        "id": "A-XRoVw26YSf"
      },
      "execution_count": null,
      "outputs": []
    },
    {
      "cell_type": "markdown",
      "source": [
        "## **6. Make Predictions on Test Data**"
      ],
      "metadata": {
        "id": "s3gaHTeP6Y09"
      }
    },
    {
      "cell_type": "code",
      "source": [
        "# 6. Make Predictions on Test Data\n",
        "def preprocess_test_data(test_df, directory):\n",
        "    \"\"\"\n",
        "    Template for loading and preprocessing test images.\n",
        "    \"\"\"\n",
        "    # TODO: create a generator for the test set here.\n",
        "    # test_datagen = ImageDataGenerator(rescale=1./255)\n",
        "    # test_generator = test_datagen.flow_from_dataframe(\n",
        "    #     .... ## set the test_generator here\n",
        "    # )\n",
        "    # return test_generator"
      ],
      "metadata": {
        "id": "aRE3QtDG6eJY"
      },
      "execution_count": 16,
      "outputs": []
    },
    {
      "cell_type": "code",
      "source": [
        "# Load test data\n",
        "test_dir = data_path + '/bttai-ajl-2025/test/test/'\n",
        "# test_generator = preprocess_test_data(test_df, test_dir)"
      ],
      "metadata": {
        "id": "HsWFC1316hIa"
      },
      "execution_count": 22,
      "outputs": []
    },
    {
      "cell_type": "markdown",
      "source": [
        "## **7. Generate Predictions**"
      ],
      "metadata": {
        "id": "GXSG72v_6hyc"
      }
    },
    {
      "cell_type": "code",
      "source": [
        "# TODO\n",
        "# Generate predictions based on the trained model\n",
        "# Then, save the predictions into a CSV file for submission"
      ],
      "metadata": {
        "id": "yl2Xar9E6lVW"
      },
      "execution_count": null,
      "outputs": []
    }
  ]
}