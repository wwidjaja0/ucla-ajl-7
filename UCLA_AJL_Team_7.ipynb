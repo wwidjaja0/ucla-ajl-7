{
  "nbformat": 4,
  "nbformat_minor": 0,
  "metadata": {
    "colab": {
      "provenance": [],
      "collapsed_sections": [
        "YGK8HXRvYh14"
      ],
      "toc_visible": true,
      "include_colab_link": true
    },
    "kernelspec": {
      "name": "python3",
      "display_name": "Python 3"
    },
    "language_info": {
      "name": "python"
    }
  },
  "cells": [
    {
      "cell_type": "markdown",
      "metadata": {
        "id": "view-in-github",
        "colab_type": "text"
      },
      "source": [
        "<a href=\"https://colab.research.google.com/github/wwidjaja0/ucla-ajl-7/blob/main/UCLA_AJL_Team_7.ipynb\" target=\"_parent\"><img src=\"https://colab.research.google.com/assets/colab-badge.svg\" alt=\"Open In Colab\"/></a>"
      ]
    },
    {
      "cell_type": "markdown",
      "source": [
        "# **UCLA AJI Team 7**"
      ],
      "metadata": {
        "id": "diijdWiX_6I6"
      }
    },
    {
      "cell_type": "markdown",
      "source": [
        "\n",
        "\n",
        "---\n",
        "\n",
        "\n",
        "**Resources and Documents:**  \n",
        "[Notion](https://www.notion.so/team/18610071-e06a-812f-98e5-004281f76263/join) | [Google Drive](https://drive.google.com/drive/folders/1uNRJqQwA9hGX1WO9Tq-dfMP-ASt_dR5L?usp=sharing) | [Github Repo](https://github.com/wwidjaja0/ucla-aji-7)\n",
        "\n",
        "---\n",
        "\n",
        "**Summary**"
      ],
      "metadata": {
        "id": "nqryR7MowCEx"
      }
    },
    {
      "cell_type": "markdown",
      "source": [
        "## **How to contribute to this Colab**\n",
        "Every time you make contributions/changes to this file, please follow the steps below for version control."
      ],
      "metadata": {
        "id": "YGK8HXRvYh14"
      }
    },
    {
      "cell_type": "markdown",
      "source": [
        "### 1. Click save a copy in GitHub\n",
        "\n",
        "![saveacopy.png](https://i.imghippo.com/files/GqN7306fLg.png)\n",
        "\n",
        "### 2. MAKE SURE YOU'RE SAVING IT TO THE RIGHT REPO (it should be <your username>/ucla-ajl-7)\n",
        "### 3. Feel free to add a commit message to let others know/for documentation what you changed/did.\n",
        "\n",
        "![commit.png](https://i.imghippo.com/files/JOJ9352xYs.png)"
      ],
      "metadata": {
        "id": "nYfDqHvvZ6U2"
      }
    },
    {
      "cell_type": "markdown",
      "source": [
        "## **1. Setup Data**"
      ],
      "metadata": {
        "id": "kuHz3aonxZUe"
      }
    },
    {
      "cell_type": "code",
      "source": [
        "! pip install -q kaggle # install kaggle library"
      ],
      "metadata": {
        "id": "B9HZJBZJR7u8"
      },
      "execution_count": 1,
      "outputs": []
    },
    {
      "cell_type": "code",
      "source": [
        "# Upload your kaggle.json to access the Kaggle API from your account:\n",
        "from google.colab import files\n",
        "files.upload()\n",
        "\n",
        "! mkdir ~/.kaggle\n",
        "! cp kaggle.json ~/.kaggle/\n",
        "! chmod 600 ~/.kaggle/kaggle.json"
      ],
      "metadata": {
        "colab": {
          "base_uri": "https://localhost:8080/",
          "height": 73
        },
        "id": "Zm456oMQO0JW",
        "outputId": "195ed357-99ab-41aa-d179-2333c8897961"
      },
      "execution_count": 2,
      "outputs": [
        {
          "output_type": "display_data",
          "data": {
            "text/plain": [
              "<IPython.core.display.HTML object>"
            ],
            "text/html": [
              "\n",
              "     <input type=\"file\" id=\"files-e966ba07-5184-4594-b93e-4ba19142d659\" name=\"files[]\" multiple disabled\n",
              "        style=\"border:none\" />\n",
              "     <output id=\"result-e966ba07-5184-4594-b93e-4ba19142d659\">\n",
              "      Upload widget is only available when the cell has been executed in the\n",
              "      current browser session. Please rerun this cell to enable.\n",
              "      </output>\n",
              "      <script>// Copyright 2017 Google LLC\n",
              "//\n",
              "// Licensed under the Apache License, Version 2.0 (the \"License\");\n",
              "// you may not use this file except in compliance with the License.\n",
              "// You may obtain a copy of the License at\n",
              "//\n",
              "//      http://www.apache.org/licenses/LICENSE-2.0\n",
              "//\n",
              "// Unless required by applicable law or agreed to in writing, software\n",
              "// distributed under the License is distributed on an \"AS IS\" BASIS,\n",
              "// WITHOUT WARRANTIES OR CONDITIONS OF ANY KIND, either express or implied.\n",
              "// See the License for the specific language governing permissions and\n",
              "// limitations under the License.\n",
              "\n",
              "/**\n",
              " * @fileoverview Helpers for google.colab Python module.\n",
              " */\n",
              "(function(scope) {\n",
              "function span(text, styleAttributes = {}) {\n",
              "  const element = document.createElement('span');\n",
              "  element.textContent = text;\n",
              "  for (const key of Object.keys(styleAttributes)) {\n",
              "    element.style[key] = styleAttributes[key];\n",
              "  }\n",
              "  return element;\n",
              "}\n",
              "\n",
              "// Max number of bytes which will be uploaded at a time.\n",
              "const MAX_PAYLOAD_SIZE = 100 * 1024;\n",
              "\n",
              "function _uploadFiles(inputId, outputId) {\n",
              "  const steps = uploadFilesStep(inputId, outputId);\n",
              "  const outputElement = document.getElementById(outputId);\n",
              "  // Cache steps on the outputElement to make it available for the next call\n",
              "  // to uploadFilesContinue from Python.\n",
              "  outputElement.steps = steps;\n",
              "\n",
              "  return _uploadFilesContinue(outputId);\n",
              "}\n",
              "\n",
              "// This is roughly an async generator (not supported in the browser yet),\n",
              "// where there are multiple asynchronous steps and the Python side is going\n",
              "// to poll for completion of each step.\n",
              "// This uses a Promise to block the python side on completion of each step,\n",
              "// then passes the result of the previous step as the input to the next step.\n",
              "function _uploadFilesContinue(outputId) {\n",
              "  const outputElement = document.getElementById(outputId);\n",
              "  const steps = outputElement.steps;\n",
              "\n",
              "  const next = steps.next(outputElement.lastPromiseValue);\n",
              "  return Promise.resolve(next.value.promise).then((value) => {\n",
              "    // Cache the last promise value to make it available to the next\n",
              "    // step of the generator.\n",
              "    outputElement.lastPromiseValue = value;\n",
              "    return next.value.response;\n",
              "  });\n",
              "}\n",
              "\n",
              "/**\n",
              " * Generator function which is called between each async step of the upload\n",
              " * process.\n",
              " * @param {string} inputId Element ID of the input file picker element.\n",
              " * @param {string} outputId Element ID of the output display.\n",
              " * @return {!Iterable<!Object>} Iterable of next steps.\n",
              " */\n",
              "function* uploadFilesStep(inputId, outputId) {\n",
              "  const inputElement = document.getElementById(inputId);\n",
              "  inputElement.disabled = false;\n",
              "\n",
              "  const outputElement = document.getElementById(outputId);\n",
              "  outputElement.innerHTML = '';\n",
              "\n",
              "  const pickedPromise = new Promise((resolve) => {\n",
              "    inputElement.addEventListener('change', (e) => {\n",
              "      resolve(e.target.files);\n",
              "    });\n",
              "  });\n",
              "\n",
              "  const cancel = document.createElement('button');\n",
              "  inputElement.parentElement.appendChild(cancel);\n",
              "  cancel.textContent = 'Cancel upload';\n",
              "  const cancelPromise = new Promise((resolve) => {\n",
              "    cancel.onclick = () => {\n",
              "      resolve(null);\n",
              "    };\n",
              "  });\n",
              "\n",
              "  // Wait for the user to pick the files.\n",
              "  const files = yield {\n",
              "    promise: Promise.race([pickedPromise, cancelPromise]),\n",
              "    response: {\n",
              "      action: 'starting',\n",
              "    }\n",
              "  };\n",
              "\n",
              "  cancel.remove();\n",
              "\n",
              "  // Disable the input element since further picks are not allowed.\n",
              "  inputElement.disabled = true;\n",
              "\n",
              "  if (!files) {\n",
              "    return {\n",
              "      response: {\n",
              "        action: 'complete',\n",
              "      }\n",
              "    };\n",
              "  }\n",
              "\n",
              "  for (const file of files) {\n",
              "    const li = document.createElement('li');\n",
              "    li.append(span(file.name, {fontWeight: 'bold'}));\n",
              "    li.append(span(\n",
              "        `(${file.type || 'n/a'}) - ${file.size} bytes, ` +\n",
              "        `last modified: ${\n",
              "            file.lastModifiedDate ? file.lastModifiedDate.toLocaleDateString() :\n",
              "                                    'n/a'} - `));\n",
              "    const percent = span('0% done');\n",
              "    li.appendChild(percent);\n",
              "\n",
              "    outputElement.appendChild(li);\n",
              "\n",
              "    const fileDataPromise = new Promise((resolve) => {\n",
              "      const reader = new FileReader();\n",
              "      reader.onload = (e) => {\n",
              "        resolve(e.target.result);\n",
              "      };\n",
              "      reader.readAsArrayBuffer(file);\n",
              "    });\n",
              "    // Wait for the data to be ready.\n",
              "    let fileData = yield {\n",
              "      promise: fileDataPromise,\n",
              "      response: {\n",
              "        action: 'continue',\n",
              "      }\n",
              "    };\n",
              "\n",
              "    // Use a chunked sending to avoid message size limits. See b/62115660.\n",
              "    let position = 0;\n",
              "    do {\n",
              "      const length = Math.min(fileData.byteLength - position, MAX_PAYLOAD_SIZE);\n",
              "      const chunk = new Uint8Array(fileData, position, length);\n",
              "      position += length;\n",
              "\n",
              "      const base64 = btoa(String.fromCharCode.apply(null, chunk));\n",
              "      yield {\n",
              "        response: {\n",
              "          action: 'append',\n",
              "          file: file.name,\n",
              "          data: base64,\n",
              "        },\n",
              "      };\n",
              "\n",
              "      let percentDone = fileData.byteLength === 0 ?\n",
              "          100 :\n",
              "          Math.round((position / fileData.byteLength) * 100);\n",
              "      percent.textContent = `${percentDone}% done`;\n",
              "\n",
              "    } while (position < fileData.byteLength);\n",
              "  }\n",
              "\n",
              "  // All done.\n",
              "  yield {\n",
              "    response: {\n",
              "      action: 'complete',\n",
              "    }\n",
              "  };\n",
              "}\n",
              "\n",
              "scope.google = scope.google || {};\n",
              "scope.google.colab = scope.google.colab || {};\n",
              "scope.google.colab._files = {\n",
              "  _uploadFiles,\n",
              "  _uploadFilesContinue,\n",
              "};\n",
              "})(self);\n",
              "</script> "
            ]
          },
          "metadata": {}
        },
        {
          "output_type": "stream",
          "name": "stdout",
          "text": [
            "Saving kaggle.json to kaggle.json\n"
          ]
        }
      ]
    },
    {
      "cell_type": "code",
      "source": [
        "! kaggle competitions download -c bttai-ajl-2025 # Attempt to download the bttai-ajl-2025.zip"
      ],
      "metadata": {
        "colab": {
          "base_uri": "https://localhost:8080/"
        },
        "id": "cKEbXb1QQlot",
        "outputId": "b4beccda-8a9a-4fda-e562-17866b796536"
      },
      "execution_count": 3,
      "outputs": [
        {
          "output_type": "stream",
          "name": "stdout",
          "text": [
            "Downloading bttai-ajl-2025.zip to /content\n",
            " 97% 295M/306M [00:01<00:00, 160MB/s]\n",
            "100% 306M/306M [00:02<00:00, 147MB/s]\n"
          ]
        }
      ]
    },
    {
      "cell_type": "code",
      "source": [
        "! unzip -q bttai-ajl-2025.zip # unzip the downloaded competition folder"
      ],
      "metadata": {
        "id": "XGZGXCYpQ504"
      },
      "execution_count": 4,
      "outputs": []
    },
    {
      "cell_type": "code",
      "source": [
        "! rm bttai-ajl-2025.zip # cleanup\n",
        "! rm sample_data # cleanup"
      ],
      "metadata": {
        "id": "a8jkcdl5Qmd9"
      },
      "execution_count": 5,
      "outputs": []
    },
    {
      "cell_type": "code",
      "source": [
        "# 1. Import Necessary Libraries\n",
        "\n",
        "import pandas as pd\n",
        "import numpy as np\n",
        "import os\n",
        "import kaggle\n",
        "from sklearn.model_selection import train_test_split\n",
        "from sklearn.preprocessing import LabelEncoder\n",
        "from tensorflow.keras.preprocessing.image import ImageDataGenerator\n",
        "from tensorflow.keras.models import Sequential\n",
        "from tensorflow.keras.layers import Conv2D, MaxPooling2D, Flatten, Dense, Dropout\n",
        "from tensorflow.keras.callbacks import EarlyStopping\n",
        "\n",
        "# Explanation:\n",
        "# - pandas and numpy: for data manipulation\n",
        "# - sklearn: for splitting data and encoding labels\n",
        "# - tensorflow.keras: for building and training the neural network"
      ],
      "metadata": {
        "id": "w5-XiIaP5nnD"
      },
      "execution_count": 6,
      "outputs": []
    },
    {
      "cell_type": "code",
      "source": [
        "# 2. Load Data\n",
        "train_df = pd.read_csv('./train.csv')\n",
        "test_df = pd.read_csv('./test.csv')\n",
        "\n",
        "# Add .jpg extension to md5hash column to reference the file_name\n",
        "train_df['md5hash'] = train_df['md5hash'].astype(str) + '.jpg'\n",
        "test_df['md5hash'] = test_df['md5hash'].astype(str) + '.jpg'\n",
        "\n",
        "# Combine label and md5hash to form the correct path\n",
        "train_df['file_path'] = train_df['label'] + '/' + train_df['md5hash']"
      ],
      "metadata": {
        "id": "bXJnbGEc52fA"
      },
      "execution_count": 10,
      "outputs": []
    },
    {
      "cell_type": "code",
      "source": [
        "# Check the first few rows to understand the structure\n",
        "train_df.head()"
      ],
      "metadata": {
        "id": "InKRID-O58zm",
        "colab": {
          "base_uri": "https://localhost:8080/",
          "height": 330
        },
        "outputId": "e4139ce5-e642-4c72-9dae-eb659b24e43a"
      },
      "execution_count": 11,
      "outputs": [
        {
          "output_type": "execute_result",
          "data": {
            "text/plain": [
              "                                md5hash  fitzpatrick_scale  \\\n",
              "0  fd06d13de341cc75ad679916c5d7e6a6.jpg                  4   \n",
              "1  a4bb4e5206c4e89a303f470576fc5253.jpg                  1   \n",
              "2  c94ce27e389f96bda998e7c3fa5c4a2e.jpg                  5   \n",
              "3  ebcf2b50dd943c700d4e2b586fcd4425.jpg                  3   \n",
              "4  c77d6c895f05fea73a8f3704307036c0.jpg                  1   \n",
              "\n",
              "   fitzpatrick_centaur                             label nine_partition_label  \\\n",
              "0                    4                 prurigo-nodularis     benign-epidermal   \n",
              "1                    1  basal-cell-carcinoma-morpheiform  malignant-epidermal   \n",
              "2                    5                            keloid         inflammatory   \n",
              "3                    3              basal-cell-carcinoma  malignant-epidermal   \n",
              "4                    1                 prurigo-nodularis     benign-epidermal   \n",
              "\n",
              "  three_partition_label            qc  ddi_scale  \\\n",
              "0                benign           NaN         34   \n",
              "1             malignant           NaN         12   \n",
              "2        non-neoplastic  1 Diagnostic         56   \n",
              "3             malignant           NaN         34   \n",
              "4                benign           NaN         12   \n",
              "\n",
              "                                           file_path  \n",
              "0  prurigo-nodularis/fd06d13de341cc75ad679916c5d7...  \n",
              "1  basal-cell-carcinoma-morpheiform/a4bb4e5206c4e...  \n",
              "2        keloid/c94ce27e389f96bda998e7c3fa5c4a2e.jpg  \n",
              "3  basal-cell-carcinoma/ebcf2b50dd943c700d4e2b586...  \n",
              "4  prurigo-nodularis/c77d6c895f05fea73a8f37043070...  "
            ],
            "text/html": [
              "\n",
              "  <div id=\"df-9e3a3cd4-eae1-45ac-bb21-116effc8d8e2\" class=\"colab-df-container\">\n",
              "    <div>\n",
              "<style scoped>\n",
              "    .dataframe tbody tr th:only-of-type {\n",
              "        vertical-align: middle;\n",
              "    }\n",
              "\n",
              "    .dataframe tbody tr th {\n",
              "        vertical-align: top;\n",
              "    }\n",
              "\n",
              "    .dataframe thead th {\n",
              "        text-align: right;\n",
              "    }\n",
              "</style>\n",
              "<table border=\"1\" class=\"dataframe\">\n",
              "  <thead>\n",
              "    <tr style=\"text-align: right;\">\n",
              "      <th></th>\n",
              "      <th>md5hash</th>\n",
              "      <th>fitzpatrick_scale</th>\n",
              "      <th>fitzpatrick_centaur</th>\n",
              "      <th>label</th>\n",
              "      <th>nine_partition_label</th>\n",
              "      <th>three_partition_label</th>\n",
              "      <th>qc</th>\n",
              "      <th>ddi_scale</th>\n",
              "      <th>file_path</th>\n",
              "    </tr>\n",
              "  </thead>\n",
              "  <tbody>\n",
              "    <tr>\n",
              "      <th>0</th>\n",
              "      <td>fd06d13de341cc75ad679916c5d7e6a6.jpg</td>\n",
              "      <td>4</td>\n",
              "      <td>4</td>\n",
              "      <td>prurigo-nodularis</td>\n",
              "      <td>benign-epidermal</td>\n",
              "      <td>benign</td>\n",
              "      <td>NaN</td>\n",
              "      <td>34</td>\n",
              "      <td>prurigo-nodularis/fd06d13de341cc75ad679916c5d7...</td>\n",
              "    </tr>\n",
              "    <tr>\n",
              "      <th>1</th>\n",
              "      <td>a4bb4e5206c4e89a303f470576fc5253.jpg</td>\n",
              "      <td>1</td>\n",
              "      <td>1</td>\n",
              "      <td>basal-cell-carcinoma-morpheiform</td>\n",
              "      <td>malignant-epidermal</td>\n",
              "      <td>malignant</td>\n",
              "      <td>NaN</td>\n",
              "      <td>12</td>\n",
              "      <td>basal-cell-carcinoma-morpheiform/a4bb4e5206c4e...</td>\n",
              "    </tr>\n",
              "    <tr>\n",
              "      <th>2</th>\n",
              "      <td>c94ce27e389f96bda998e7c3fa5c4a2e.jpg</td>\n",
              "      <td>5</td>\n",
              "      <td>5</td>\n",
              "      <td>keloid</td>\n",
              "      <td>inflammatory</td>\n",
              "      <td>non-neoplastic</td>\n",
              "      <td>1 Diagnostic</td>\n",
              "      <td>56</td>\n",
              "      <td>keloid/c94ce27e389f96bda998e7c3fa5c4a2e.jpg</td>\n",
              "    </tr>\n",
              "    <tr>\n",
              "      <th>3</th>\n",
              "      <td>ebcf2b50dd943c700d4e2b586fcd4425.jpg</td>\n",
              "      <td>3</td>\n",
              "      <td>3</td>\n",
              "      <td>basal-cell-carcinoma</td>\n",
              "      <td>malignant-epidermal</td>\n",
              "      <td>malignant</td>\n",
              "      <td>NaN</td>\n",
              "      <td>34</td>\n",
              "      <td>basal-cell-carcinoma/ebcf2b50dd943c700d4e2b586...</td>\n",
              "    </tr>\n",
              "    <tr>\n",
              "      <th>4</th>\n",
              "      <td>c77d6c895f05fea73a8f3704307036c0.jpg</td>\n",
              "      <td>1</td>\n",
              "      <td>1</td>\n",
              "      <td>prurigo-nodularis</td>\n",
              "      <td>benign-epidermal</td>\n",
              "      <td>benign</td>\n",
              "      <td>NaN</td>\n",
              "      <td>12</td>\n",
              "      <td>prurigo-nodularis/c77d6c895f05fea73a8f37043070...</td>\n",
              "    </tr>\n",
              "  </tbody>\n",
              "</table>\n",
              "</div>\n",
              "    <div class=\"colab-df-buttons\">\n",
              "\n",
              "  <div class=\"colab-df-container\">\n",
              "    <button class=\"colab-df-convert\" onclick=\"convertToInteractive('df-9e3a3cd4-eae1-45ac-bb21-116effc8d8e2')\"\n",
              "            title=\"Convert this dataframe to an interactive table.\"\n",
              "            style=\"display:none;\">\n",
              "\n",
              "  <svg xmlns=\"http://www.w3.org/2000/svg\" height=\"24px\" viewBox=\"0 -960 960 960\">\n",
              "    <path d=\"M120-120v-720h720v720H120Zm60-500h600v-160H180v160Zm220 220h160v-160H400v160Zm0 220h160v-160H400v160ZM180-400h160v-160H180v160Zm440 0h160v-160H620v160ZM180-180h160v-160H180v160Zm440 0h160v-160H620v160Z\"/>\n",
              "  </svg>\n",
              "    </button>\n",
              "\n",
              "  <style>\n",
              "    .colab-df-container {\n",
              "      display:flex;\n",
              "      gap: 12px;\n",
              "    }\n",
              "\n",
              "    .colab-df-convert {\n",
              "      background-color: #E8F0FE;\n",
              "      border: none;\n",
              "      border-radius: 50%;\n",
              "      cursor: pointer;\n",
              "      display: none;\n",
              "      fill: #1967D2;\n",
              "      height: 32px;\n",
              "      padding: 0 0 0 0;\n",
              "      width: 32px;\n",
              "    }\n",
              "\n",
              "    .colab-df-convert:hover {\n",
              "      background-color: #E2EBFA;\n",
              "      box-shadow: 0px 1px 2px rgba(60, 64, 67, 0.3), 0px 1px 3px 1px rgba(60, 64, 67, 0.15);\n",
              "      fill: #174EA6;\n",
              "    }\n",
              "\n",
              "    .colab-df-buttons div {\n",
              "      margin-bottom: 4px;\n",
              "    }\n",
              "\n",
              "    [theme=dark] .colab-df-convert {\n",
              "      background-color: #3B4455;\n",
              "      fill: #D2E3FC;\n",
              "    }\n",
              "\n",
              "    [theme=dark] .colab-df-convert:hover {\n",
              "      background-color: #434B5C;\n",
              "      box-shadow: 0px 1px 3px 1px rgba(0, 0, 0, 0.15);\n",
              "      filter: drop-shadow(0px 1px 2px rgba(0, 0, 0, 0.3));\n",
              "      fill: #FFFFFF;\n",
              "    }\n",
              "  </style>\n",
              "\n",
              "    <script>\n",
              "      const buttonEl =\n",
              "        document.querySelector('#df-9e3a3cd4-eae1-45ac-bb21-116effc8d8e2 button.colab-df-convert');\n",
              "      buttonEl.style.display =\n",
              "        google.colab.kernel.accessAllowed ? 'block' : 'none';\n",
              "\n",
              "      async function convertToInteractive(key) {\n",
              "        const element = document.querySelector('#df-9e3a3cd4-eae1-45ac-bb21-116effc8d8e2');\n",
              "        const dataTable =\n",
              "          await google.colab.kernel.invokeFunction('convertToInteractive',\n",
              "                                                    [key], {});\n",
              "        if (!dataTable) return;\n",
              "\n",
              "        const docLinkHtml = 'Like what you see? Visit the ' +\n",
              "          '<a target=\"_blank\" href=https://colab.research.google.com/notebooks/data_table.ipynb>data table notebook</a>'\n",
              "          + ' to learn more about interactive tables.';\n",
              "        element.innerHTML = '';\n",
              "        dataTable['output_type'] = 'display_data';\n",
              "        await google.colab.output.renderOutput(dataTable, element);\n",
              "        const docLink = document.createElement('div');\n",
              "        docLink.innerHTML = docLinkHtml;\n",
              "        element.appendChild(docLink);\n",
              "      }\n",
              "    </script>\n",
              "  </div>\n",
              "\n",
              "\n",
              "<div id=\"df-95b7d5a0-e161-4898-ba75-3f3892e7d1a5\">\n",
              "  <button class=\"colab-df-quickchart\" onclick=\"quickchart('df-95b7d5a0-e161-4898-ba75-3f3892e7d1a5')\"\n",
              "            title=\"Suggest charts\"\n",
              "            style=\"display:none;\">\n",
              "\n",
              "<svg xmlns=\"http://www.w3.org/2000/svg\" height=\"24px\"viewBox=\"0 0 24 24\"\n",
              "     width=\"24px\">\n",
              "    <g>\n",
              "        <path d=\"M19 3H5c-1.1 0-2 .9-2 2v14c0 1.1.9 2 2 2h14c1.1 0 2-.9 2-2V5c0-1.1-.9-2-2-2zM9 17H7v-7h2v7zm4 0h-2V7h2v10zm4 0h-2v-4h2v4z\"/>\n",
              "    </g>\n",
              "</svg>\n",
              "  </button>\n",
              "\n",
              "<style>\n",
              "  .colab-df-quickchart {\n",
              "      --bg-color: #E8F0FE;\n",
              "      --fill-color: #1967D2;\n",
              "      --hover-bg-color: #E2EBFA;\n",
              "      --hover-fill-color: #174EA6;\n",
              "      --disabled-fill-color: #AAA;\n",
              "      --disabled-bg-color: #DDD;\n",
              "  }\n",
              "\n",
              "  [theme=dark] .colab-df-quickchart {\n",
              "      --bg-color: #3B4455;\n",
              "      --fill-color: #D2E3FC;\n",
              "      --hover-bg-color: #434B5C;\n",
              "      --hover-fill-color: #FFFFFF;\n",
              "      --disabled-bg-color: #3B4455;\n",
              "      --disabled-fill-color: #666;\n",
              "  }\n",
              "\n",
              "  .colab-df-quickchart {\n",
              "    background-color: var(--bg-color);\n",
              "    border: none;\n",
              "    border-radius: 50%;\n",
              "    cursor: pointer;\n",
              "    display: none;\n",
              "    fill: var(--fill-color);\n",
              "    height: 32px;\n",
              "    padding: 0;\n",
              "    width: 32px;\n",
              "  }\n",
              "\n",
              "  .colab-df-quickchart:hover {\n",
              "    background-color: var(--hover-bg-color);\n",
              "    box-shadow: 0 1px 2px rgba(60, 64, 67, 0.3), 0 1px 3px 1px rgba(60, 64, 67, 0.15);\n",
              "    fill: var(--button-hover-fill-color);\n",
              "  }\n",
              "\n",
              "  .colab-df-quickchart-complete:disabled,\n",
              "  .colab-df-quickchart-complete:disabled:hover {\n",
              "    background-color: var(--disabled-bg-color);\n",
              "    fill: var(--disabled-fill-color);\n",
              "    box-shadow: none;\n",
              "  }\n",
              "\n",
              "  .colab-df-spinner {\n",
              "    border: 2px solid var(--fill-color);\n",
              "    border-color: transparent;\n",
              "    border-bottom-color: var(--fill-color);\n",
              "    animation:\n",
              "      spin 1s steps(1) infinite;\n",
              "  }\n",
              "\n",
              "  @keyframes spin {\n",
              "    0% {\n",
              "      border-color: transparent;\n",
              "      border-bottom-color: var(--fill-color);\n",
              "      border-left-color: var(--fill-color);\n",
              "    }\n",
              "    20% {\n",
              "      border-color: transparent;\n",
              "      border-left-color: var(--fill-color);\n",
              "      border-top-color: var(--fill-color);\n",
              "    }\n",
              "    30% {\n",
              "      border-color: transparent;\n",
              "      border-left-color: var(--fill-color);\n",
              "      border-top-color: var(--fill-color);\n",
              "      border-right-color: var(--fill-color);\n",
              "    }\n",
              "    40% {\n",
              "      border-color: transparent;\n",
              "      border-right-color: var(--fill-color);\n",
              "      border-top-color: var(--fill-color);\n",
              "    }\n",
              "    60% {\n",
              "      border-color: transparent;\n",
              "      border-right-color: var(--fill-color);\n",
              "    }\n",
              "    80% {\n",
              "      border-color: transparent;\n",
              "      border-right-color: var(--fill-color);\n",
              "      border-bottom-color: var(--fill-color);\n",
              "    }\n",
              "    90% {\n",
              "      border-color: transparent;\n",
              "      border-bottom-color: var(--fill-color);\n",
              "    }\n",
              "  }\n",
              "</style>\n",
              "\n",
              "  <script>\n",
              "    async function quickchart(key) {\n",
              "      const quickchartButtonEl =\n",
              "        document.querySelector('#' + key + ' button');\n",
              "      quickchartButtonEl.disabled = true;  // To prevent multiple clicks.\n",
              "      quickchartButtonEl.classList.add('colab-df-spinner');\n",
              "      try {\n",
              "        const charts = await google.colab.kernel.invokeFunction(\n",
              "            'suggestCharts', [key], {});\n",
              "      } catch (error) {\n",
              "        console.error('Error during call to suggestCharts:', error);\n",
              "      }\n",
              "      quickchartButtonEl.classList.remove('colab-df-spinner');\n",
              "      quickchartButtonEl.classList.add('colab-df-quickchart-complete');\n",
              "    }\n",
              "    (() => {\n",
              "      let quickchartButtonEl =\n",
              "        document.querySelector('#df-95b7d5a0-e161-4898-ba75-3f3892e7d1a5 button');\n",
              "      quickchartButtonEl.style.display =\n",
              "        google.colab.kernel.accessAllowed ? 'block' : 'none';\n",
              "    })();\n",
              "  </script>\n",
              "</div>\n",
              "\n",
              "    </div>\n",
              "  </div>\n"
            ],
            "application/vnd.google.colaboratory.intrinsic+json": {
              "type": "dataframe",
              "variable_name": "train_df",
              "summary": "{\n  \"name\": \"train_df\",\n  \"rows\": 2860,\n  \"fields\": [\n    {\n      \"column\": \"md5hash\",\n      \"properties\": {\n        \"dtype\": \"string\",\n        \"num_unique_values\": 2860,\n        \"samples\": [\n          \"3be5d580b67406152ee65b85d465db27.jpg\",\n          \"6cba1a3c302571165ea1d3f81f0ddf5b.jpg\",\n          \"50c46e531f7b08351275d5b36993dbbf.jpg\"\n        ],\n        \"semantic_type\": \"\",\n        \"description\": \"\"\n      }\n    },\n    {\n      \"column\": \"fitzpatrick_scale\",\n      \"properties\": {\n        \"dtype\": \"number\",\n        \"std\": 1,\n        \"min\": -1,\n        \"max\": 6,\n        \"num_unique_values\": 7,\n        \"samples\": [\n          4,\n          1,\n          -1\n        ],\n        \"semantic_type\": \"\",\n        \"description\": \"\"\n      }\n    },\n    {\n      \"column\": \"fitzpatrick_centaur\",\n      \"properties\": {\n        \"dtype\": \"number\",\n        \"std\": 1,\n        \"min\": -1,\n        \"max\": 6,\n        \"num_unique_values\": 7,\n        \"samples\": [\n          4,\n          1,\n          2\n        ],\n        \"semantic_type\": \"\",\n        \"description\": \"\"\n      }\n    },\n    {\n      \"column\": \"label\",\n      \"properties\": {\n        \"dtype\": \"category\",\n        \"num_unique_values\": 21,\n        \"samples\": [\n          \"prurigo-nodularis\",\n          \"kaposi-sarcoma\",\n          \"pyogenic-granuloma\"\n        ],\n        \"semantic_type\": \"\",\n        \"description\": \"\"\n      }\n    },\n    {\n      \"column\": \"nine_partition_label\",\n      \"properties\": {\n        \"dtype\": \"category\",\n        \"num_unique_values\": 7,\n        \"samples\": [\n          \"benign-epidermal\",\n          \"malignant-epidermal\",\n          \"benign-dermal\"\n        ],\n        \"semantic_type\": \"\",\n        \"description\": \"\"\n      }\n    },\n    {\n      \"column\": \"three_partition_label\",\n      \"properties\": {\n        \"dtype\": \"category\",\n        \"num_unique_values\": 3,\n        \"samples\": [\n          \"benign\",\n          \"malignant\",\n          \"non-neoplastic\"\n        ],\n        \"semantic_type\": \"\",\n        \"description\": \"\"\n      }\n    },\n    {\n      \"column\": \"qc\",\n      \"properties\": {\n        \"dtype\": \"category\",\n        \"num_unique_values\": 5,\n        \"samples\": [\n          \"3 Wrongly labelled\",\n          \"2 Characteristic\",\n          \"5 Potentially\"\n        ],\n        \"semantic_type\": \"\",\n        \"description\": \"\"\n      }\n    },\n    {\n      \"column\": \"ddi_scale\",\n      \"properties\": {\n        \"dtype\": \"number\",\n        \"std\": 15,\n        \"min\": -1,\n        \"max\": 56,\n        \"num_unique_values\": 4,\n        \"samples\": [\n          12,\n          -1,\n          34\n        ],\n        \"semantic_type\": \"\",\n        \"description\": \"\"\n      }\n    },\n    {\n      \"column\": \"file_path\",\n      \"properties\": {\n        \"dtype\": \"string\",\n        \"num_unique_values\": 2860,\n        \"samples\": [\n          \"prurigo-nodularis/3be5d580b67406152ee65b85d465db27.jpg\",\n          \"eczema/6cba1a3c302571165ea1d3f81f0ddf5b.jpg\",\n          \"keloid/50c46e531f7b08351275d5b36993dbbf.jpg\"\n        ],\n        \"semantic_type\": \"\",\n        \"description\": \"\"\n      }\n    }\n  ]\n}"
            }
          },
          "metadata": {},
          "execution_count": 11
        }
      ]
    },
    {
      "cell_type": "markdown",
      "source": [
        "## **2. Analyzing the Data**"
      ],
      "metadata": {
        "id": "P7djJQcCFsxX"
      }
    },
    {
      "cell_type": "code",
      "source": [
        "!ls train/train/"
      ],
      "metadata": {
        "colab": {
          "base_uri": "https://localhost:8080/"
        },
        "id": "hx6hXPs9F1FM",
        "outputId": "34c86e29-6f41-476e-99db-bfff7618a406"
      },
      "execution_count": 15,
      "outputs": [
        {
          "output_type": "stream",
          "name": "stdout",
          "text": [
            "acne\t\t\t\t  dyshidrotic-eczema  melanoma\n",
            "acne-vulgaris\t\t\t  eczema\t      mycosis-fungoides\n",
            "actinic-keratosis\t\t  epidermal-nevus     prurigo-nodularis\n",
            "basal-cell-carcinoma\t\t  folliculitis\t      pyogenic-granuloma\n",
            "basal-cell-carcinoma-morpheiform  kaposi-sarcoma      seborrheic-keratosis\n",
            "dermatofibroma\t\t\t  keloid\t      squamous-cell-carcinoma\n",
            "dermatomyositis\t\t\t  malignant-melanoma  superficial-spreading-melanoma-ssm\n"
          ]
        }
      ]
    },
    {
      "cell_type": "code",
      "source": [
        "# Number of images in each directory\n",
        "training_folder = \"./train/train/\"\n",
        "labels = [folder_name for folder_name in os.listdir(training_folder)]\n",
        "\n",
        "\n",
        "for folder_name in labels:\n",
        "  print(f\"Number of {folder_name}:\", len(os.listdir(training_folder + folder_name)))"
      ],
      "metadata": {
        "colab": {
          "base_uri": "https://localhost:8080/"
        },
        "id": "yqTyjaEzHDOe",
        "outputId": "485e7aa9-388d-422f-eae1-783d3e1649f9"
      },
      "execution_count": 16,
      "outputs": [
        {
          "output_type": "stream",
          "name": "stdout",
          "text": [
            "Number of basal-cell-carcinoma-morpheiform: 43\n",
            "Number of seborrheic-keratosis: 48\n",
            "Number of kaposi-sarcoma: 109\n",
            "Number of eczema: 143\n",
            "Number of malignant-melanoma: 78\n",
            "Number of pyogenic-granuloma: 79\n",
            "Number of mycosis-fungoides: 127\n",
            "Number of epidermal-nevus: 64\n",
            "Number of dermatomyositis: 106\n",
            "Number of squamous-cell-carcinoma: 407\n",
            "Number of prurigo-nodularis: 119\n",
            "Number of melanoma: 181\n",
            "Number of keloid: 109\n",
            "Number of acne-vulgaris: 234\n",
            "Number of dermatofibroma: 55\n",
            "Number of acne: 128\n",
            "Number of superficial-spreading-melanoma-ssm: 83\n",
            "Number of actinic-keratosis: 122\n",
            "Number of dyshidrotic-eczema: 58\n",
            "Number of basal-cell-carcinoma: 328\n",
            "Number of folliculitis: 239\n"
          ]
        }
      ]
    },
    {
      "cell_type": "markdown",
      "source": [
        "### Visualize a random sample of the data to analyze bias"
      ],
      "metadata": {
        "id": "Kqz7knPcqU38"
      }
    },
    {
      "cell_type": "code",
      "source": [],
      "metadata": {
        "id": "AMNn57SOqUhg"
      },
      "execution_count": 7,
      "outputs": []
    },
    {
      "cell_type": "markdown",
      "source": [
        "## **3. Data Preprocessing**"
      ],
      "metadata": {
        "id": "XX0vbwrS5-_9"
      }
    },
    {
      "cell_type": "code",
      "source": [
        "# 3. Data Preprocessing\n",
        "# Encode the labels\n",
        "label_encoder = LabelEncoder()\n",
        "train_df['encoded_label'] = label_encoder.fit_transform(train_df['label'])\n",
        "\n",
        "# Split the data into training and validation sets\n",
        "train_data, val_data = train_test_split(train_df, test_size=0.2, random_state=42)\n",
        "\n",
        "# Define image data generators for training and validation\n",
        "train_datagen = ImageDataGenerator(rescale=1./255)\n",
        "val_datagen = ImageDataGenerator(rescale=1./255)\n",
        "\n",
        "# Define the directory paths\n",
        "train_dir = data_path + '/bttai-ajl-2025/train/train/'"
      ],
      "metadata": {
        "id": "wGe1D0Uw6A5C"
      },
      "execution_count": 8,
      "outputs": []
    },
    {
      "cell_type": "code",
      "source": [
        "def create_generator(dataframe, directory, batch_size=32, target_size=(128, 128)):\n",
        "    \"\"\"\n",
        "    Template function to create image generators.\n",
        "    Students should complete this function to load images and labels properly.\n",
        "    \"\"\"\n",
        "    # Fill in the correct flow_from_dataframe parameters\n",
        "    generator = train_datagen.flow_from_dataframe(\n",
        "        dataframe=dataframe,\n",
        "        directory=directory,\n",
        "        x_col='file_path',  # Use combined path\n",
        "        y_col='encoded_label',\n",
        "        target_size=target_size,\n",
        "        batch_size=batch_size,\n",
        "        class_mode='raw',\n",
        "        validate_filenames=False  # Disable strict filename validation\n",
        "    )\n",
        "    return generator"
      ],
      "metadata": {
        "id": "gB7em3LH6J5f"
      },
      "execution_count": 9,
      "outputs": []
    },
    {
      "cell_type": "code",
      "source": [
        "# Create generators\n",
        "train_generator = create_generator(train_data, train_dir)\n",
        "val_generator = create_generator(val_data, train_dir)"
      ],
      "metadata": {
        "id": "vs855I4E6MMs",
        "colab": {
          "base_uri": "https://localhost:8080/"
        },
        "outputId": "e943f359-013b-45e3-9e2b-897fb0d422f2"
      },
      "execution_count": 10,
      "outputs": [
        {
          "output_type": "stream",
          "name": "stdout",
          "text": [
            "Found 2288 non-validated image filenames.\n",
            "Found 572 non-validated image filenames.\n"
          ]
        }
      ]
    },
    {
      "cell_type": "markdown",
      "source": [
        "## **4. Build Model**"
      ],
      "metadata": {
        "id": "iPKBRDJ36O-_"
      }
    },
    {
      "cell_type": "code",
      "source": [
        "# TODO: You should implement the model architecture here.\n",
        "# Feel free to explore different model types that best serve your purpose.\n",
        "\n",
        "\"\"\"\n",
        "From: Evaluating Deep Neural Networks Trained on Skin Images with the Fitzpatrick 17k Dataset (Full)\n",
        "\n",
        "dataloaders, dataset_sizes = custom_load(\n",
        "  256,\n",
        "  20,\n",
        "  \"{}\".format(train_path),\n",
        "  \"{}\".format(test_path))\n",
        "model_ft = models.vgg18(pretrained=True)\n",
        "for param in model_ft.parameters():\n",
        "  param.requires_grad = False\n",
        "model_ft.classifier[6] = nn.Sequential(\n",
        "  nn.Linear(4096, 256),\n",
        "  nn.ReLU(),\n",
        "  nn.Dropout(0.4),\n",
        "  nn.Linear(256, len(label_codes)),\n",
        "  nn.LogSoftmax(dim=1))\n",
        "\n",
        "transform = transforms.Compose([\n",
        "  transforms.ToPILImage(),\n",
        "  transforms.RandomResizedCrop(size=256, scale=(0.8, 1.0)),\n",
        "  transforms.RandomRotation(degrees=15),\n",
        "  transforms.ColorJitter(),\n",
        "  transforms.RandomHorizontalFlip(),\n",
        "  transforms.CenterCrop(size=224), # Image net standards\n",
        "  transforms.ToTensor(),\n",
        "  transforms.Normalize([0.485, 0.456, 0.406],\n",
        "                       [0.229, 0.224, 0.225])\n",
        "])\n",
        "\"\"\""
      ],
      "metadata": {
        "id": "WZo6RKNg6N87",
        "colab": {
          "base_uri": "https://localhost:8080/",
          "height": 105
        },
        "outputId": "706c95ed-ec29-45ff-f816-d086053bef71"
      },
      "execution_count": 11,
      "outputs": [
        {
          "output_type": "execute_result",
          "data": {
            "text/plain": [
              "'\\nFrom: Evaluating Deep Neural Networks Trained on Skin Images with the Fitzpatrick 17k Dataset (Full)\\n\\ndataloaders, dataset_sizes = custom_load(\\n  256,\\n  20,\\n  \"{}\".format(train_path),\\n  \"{}\".format(test_path))\\nmodel_ft = models.vgg18(pretrained=True)\\nfor param in model_ft.parameters():\\n  param.requires_grad = False\\nmodel_ft.classifier[6] = nn.Sequential(\\n  nn.Linear(4096, 256),\\n  nn.ReLU(),\\n  nn.Dropout(0.4),\\n  nn.Linear(256, len(label_codes)),\\n  nn.LogSoftmax(dim=1))\\n\\ntransform = transforms.Compose([\\n  transforms.ToPILImage(),\\n  transforms.RandomResizedCrop(size=256, scale=(0.8, 1.0)),\\n  transforms.RandomRotation(degrees=15),\\n  transforms.ColorJitter(),\\n  transforms.RandomHorizontalFlip(),\\n  transforms.CenterCrop(size=224), # Image net standards\\n  transforms.ToTensor(),\\n  transforms.Normalize([0.485, 0.456, 0.406],\\n                       [0.229, 0.224, 0.225])\\n])\\n'"
            ],
            "application/vnd.google.colaboratory.intrinsic+json": {
              "type": "string"
            }
          },
          "metadata": {},
          "execution_count": 11
        }
      ]
    },
    {
      "cell_type": "markdown",
      "source": [
        "## **5. Train Model**"
      ],
      "metadata": {
        "id": "xClNa-pd6Se0"
      }
    },
    {
      "cell_type": "code",
      "source": [
        "# TODO: Train your model here."
      ],
      "metadata": {
        "id": "A-XRoVw26YSf"
      },
      "execution_count": 12,
      "outputs": []
    },
    {
      "cell_type": "markdown",
      "source": [
        "## **6. Make Predictions on Test Data**"
      ],
      "metadata": {
        "id": "s3gaHTeP6Y09"
      }
    },
    {
      "cell_type": "code",
      "source": [
        "# 6. Make Predictions on Test Data\n",
        "def preprocess_test_data(test_df, directory):\n",
        "    \"\"\"\n",
        "    Template for loading and preprocessing test images.\n",
        "    \"\"\"\n",
        "    # TODO: create a generator for the test set here.\n",
        "    # test_datagen = ImageDataGenerator(rescale=1./255)\n",
        "    # test_generator = test_datagen.flow_from_dataframe(\n",
        "    #     .... ## set the test_generator here\n",
        "    # )\n",
        "    # return test_generator"
      ],
      "metadata": {
        "id": "aRE3QtDG6eJY"
      },
      "execution_count": 13,
      "outputs": []
    },
    {
      "cell_type": "code",
      "source": [
        "# Load test data\n",
        "test_dir = data_path + '/bttai-ajl-2025/test/test/'\n",
        "# test_generator = preprocess_test_data(test_df, test_dir)"
      ],
      "metadata": {
        "id": "HsWFC1316hIa"
      },
      "execution_count": 14,
      "outputs": []
    },
    {
      "cell_type": "markdown",
      "source": [
        "## **7. Generate Predictions**"
      ],
      "metadata": {
        "id": "GXSG72v_6hyc"
      }
    },
    {
      "cell_type": "code",
      "source": [
        "# TODO\n",
        "# Generate predictions based on the trained model\n",
        "# Then, save the predictions into a CSV file for submission"
      ],
      "metadata": {
        "id": "yl2Xar9E6lVW"
      },
      "execution_count": 15,
      "outputs": []
    }
  ]
}