{
  "nbformat": 4,
  "nbformat_minor": 0,
  "metadata": {
    "colab": {
      "provenance": [],
      "include_colab_link": true
    },
    "kernelspec": {
      "name": "python3",
      "display_name": "Python 3"
    },
    "language_info": {
      "name": "python"
    }
  },
  "cells": [
    {
      "cell_type": "markdown",
      "metadata": {
        "id": "view-in-github",
        "colab_type": "text"
      },
      "source": [
        "<a href=\"https://colab.research.google.com/github/wwidjaja0/ucla-ajl-7/blob/main/UCLA_AJL_Team_7.ipynb\" target=\"_parent\"><img src=\"https://colab.research.google.com/assets/colab-badge.svg\" alt=\"Open In Colab\"/></a>"
      ]
    },
    {
      "cell_type": "markdown",
      "source": [
        "# **UCLA AJI Team 7**"
      ],
      "metadata": {
        "id": "diijdWiX_6I6"
      }
    },
    {
      "cell_type": "markdown",
      "source": [
        "\n",
        "\n",
        "---\n",
        "\n",
        "\n",
        "**Resources and Documents:**  \n",
        "[Notion](https://www.notion.so/team/18610071-e06a-812f-98e5-004281f76263/join) | [Google Drive](https://drive.google.com/drive/folders/1uNRJqQwA9hGX1WO9Tq-dfMP-ASt_dR5L?usp=sharing) | [Github Repo](https://github.com/wwidjaja0/ucla-aji-7)\n",
        "\n",
        "---\n",
        "\n",
        "**Summary**"
      ],
      "metadata": {
        "id": "nqryR7MowCEx"
      }
    },
    {
      "cell_type": "markdown",
      "source": [
        "## **How to setup/contribute to this Colab**\n",
        "Every time you make contributions/changes to this file, please follow the steps below for version control."
      ],
      "metadata": {
        "id": "YGK8HXRvYh14"
      }
    },
    {
      "cell_type": "markdown",
      "source": [
        "### 1. Click save a copy in GitHub\n",
        "\n",
        "![saveacopy.png](https://i.imghippo.com/files/GqN7306fLg.png)\n",
        "\n",
        "### 2. MAKE SURE YOU'RE SAVING IT TO THE RIGHT REPO (it should be <your username>/ucla-ajl-7)\n",
        "### 3. Feel free to add a commit message to let others know/for documentation what you changed/did.\n",
        "\n",
        "![commit.png](https://i.imghippo.com/files/JOJ9352xYs.png)"
      ],
      "metadata": {
        "id": "nYfDqHvvZ6U2"
      }
    },
    {
      "cell_type": "markdown",
      "source": [
        "## **Code**"
      ],
      "metadata": {
        "id": "kuHz3aonxZUe"
      }
    },
    {
      "cell_type": "code",
      "source": [
        "from google.colab import drive\n",
        "drive.mount('/content/drive')"
      ],
      "metadata": {
        "colab": {
          "base_uri": "https://localhost:8080/"
        },
        "id": "DbRDsHrT58xb",
        "outputId": "c20ae78f-7cd2-4ec1-9d1b-0f5d5acccb92"
      },
      "execution_count": null,
      "outputs": [
        {
          "output_type": "stream",
          "name": "stdout",
          "text": [
            "Mounted at /content/drive\n"
          ]
        }
      ]
    },
    {
      "cell_type": "code",
      "source": [
        "# Necessary Imports\n",
        "import os\n",
        "import numpy as np\n",
        "import pandas as pd\n",
        "from collections import Counter\n",
        "import keras\n",
        "from keras import Sequential\n",
        "from keras import layers\n",
        "from keras.layers import Conv2D,MaxPool2D,Dense,Flatten,BatchNormalization,Dropout, Input\n",
        "from keras.optimizers import Adam\n",
        "from PIL import Image\n",
        "from tensorflow import data as tf_data\n",
        "import matplotlib.pyplot as plt\n",
        "from keras.preprocessing import image\n",
        "\n",
        "from sklearn.model_selection import train_test_split\n",
        "\n",
        "from tqdm import tqdm"
      ],
      "metadata": {
        "id": "F9ptVy32xxTf"
      },
      "execution_count": null,
      "outputs": []
    },
    {
      "cell_type": "markdown",
      "source": [
        "Load the data"
      ],
      "metadata": {
        "id": "7FJGPyg270m0"
      }
    },
    {
      "cell_type": "code",
      "source": [
        "data_path = \"/content/drive/MyDrive/Colab_Notebooks/movie_data/\""
      ],
      "metadata": {
        "id": "wDd8znlJjwd3"
      },
      "execution_count": null,
      "outputs": []
    },
    {
      "cell_type": "markdown",
      "source": [
        "Check Skin Tone Distribution: Use Fitzpatrick skin type classifiers to analyze the dataset."
      ],
      "metadata": {
        "id": "KXCazui81AjC"
      }
    },
    {
      "cell_type": "markdown",
      "source": [
        "## **1. Import Libraries**"
      ],
      "metadata": {
        "id": "3_ABc6UK5ubH"
      }
    },
    {
      "cell_type": "code",
      "source": [
        "# 1. Import Necessary Libraries\n",
        "import pandas as pd\n",
        "import numpy as np\n",
        "import os\n",
        "from sklearn.model_selection import train_test_split\n",
        "from sklearn.preprocessing import LabelEncoder\n",
        "from tensorflow.keras.preprocessing.image import ImageDataGenerator\n",
        "from tensorflow.keras.models import Sequential\n",
        "from tensorflow.keras.layers import Conv2D, MaxPooling2D, Flatten, Dense, Dropout\n",
        "from tensorflow.keras.callbacks import EarlyStopping\n",
        "\n",
        "# Explanation:\n",
        "# - pandas and numpy: for data manipulation\n",
        "# - sklearn: for splitting data and encoding labels\n",
        "# - tensorflow.keras: for building and training the neural network"
      ],
      "metadata": {
        "id": "w5-XiIaP5nnD"
      },
      "execution_count": null,
      "outputs": []
    },
    {
      "cell_type": "markdown",
      "source": [
        "## **2. Load Data**"
      ],
      "metadata": {
        "id": "LZE4N06h52rj"
      }
    },
    {
      "cell_type": "code",
      "source": [
        "# 2. Load Data\n",
        "train_df = pd.read_csv('/kaggle/input/bttai-ajl-2025/train.csv')\n",
        "test_df = pd.read_csv('/kaggle/input/bttai-ajl-2025/test.csv')\n",
        "\n",
        "# Add .jpg extension to md5hash column to reference the file_name\n",
        "train_df['md5hash'] = train_df['md5hash'].astype(str) + '.jpg'\n",
        "test_df['md5hash'] = test_df['md5hash'].astype(str) + '.jpg'\n",
        "\n",
        "# Combine label and md5hash to form the correct path\n",
        "train_df['file_path'] = train_df['label'] + '/' + train_df['md5hash']"
      ],
      "metadata": {
        "id": "bXJnbGEc52fA"
      },
      "execution_count": null,
      "outputs": []
    },
    {
      "cell_type": "code",
      "source": [
        "# Check the first few rows to understand the structure\n",
        "print(train_df.head())"
      ],
      "metadata": {
        "id": "InKRID-O58zm"
      },
      "execution_count": null,
      "outputs": []
    },
    {
      "cell_type": "markdown",
      "source": [
        "## **3. Data Preprocessing**"
      ],
      "metadata": {
        "id": "XX0vbwrS5-_9"
      }
    },
    {
      "cell_type": "code",
      "source": [
        "# 3. Data Preprocessing\n",
        "# Encode the labels\n",
        "label_encoder = LabelEncoder()\n",
        "train_df['encoded_label'] = label_encoder.fit_transform(train_df['label'])\n",
        "\n",
        "# Split the data into training and validation sets\n",
        "train_data, val_data = train_test_split(train_df, test_size=0.2, random_state=42)\n",
        "\n",
        "# Define image data generators for training and validation\n",
        "train_datagen = ImageDataGenerator(rescale=1./255)\n",
        "val_datagen = ImageDataGenerator(rescale=1./255)\n",
        "\n",
        "# Define the directory paths\n",
        "train_dir = '/kaggle/input/bttai-ajl-2025/train/train/'"
      ],
      "metadata": {
        "id": "wGe1D0Uw6A5C"
      },
      "execution_count": null,
      "outputs": []
    },
    {
      "cell_type": "code",
      "source": [
        "def create_generator(dataframe, directory, batch_size=32, target_size=(128, 128)):\n",
        "    \"\"\"\n",
        "    Template function to create image generators.\n",
        "    Students should complete this function to load images and labels properly.\n",
        "    \"\"\"\n",
        "    # Fill in the correct flow_from_dataframe parameters\n",
        "    generator = train_datagen.flow_from_dataframe(\n",
        "        dataframe=dataframe,\n",
        "        directory=directory,\n",
        "        x_col='file_path',  # Use combined path\n",
        "        y_col='encoded_label',\n",
        "        target_size=target_size,\n",
        "        batch_size=batch_size,\n",
        "        class_mode='raw',\n",
        "        validate_filenames=False  # Disable strict filename validation\n",
        "    )\n",
        "    return generator"
      ],
      "metadata": {
        "id": "gB7em3LH6J5f"
      },
      "execution_count": null,
      "outputs": []
    },
    {
      "cell_type": "code",
      "source": [
        "# Create generators\n",
        "train_generator = create_generator(train_data, train_dir)\n",
        "val_generator = create_generator(val_data, train_dir)"
      ],
      "metadata": {
        "id": "vs855I4E6MMs"
      },
      "execution_count": null,
      "outputs": []
    },
    {
      "cell_type": "markdown",
      "source": [
        "## **4. Build Model**"
      ],
      "metadata": {
        "id": "iPKBRDJ36O-_"
      }
    },
    {
      "cell_type": "code",
      "source": [
        "# TODO: You should implement the model architecture here.\n",
        "# Feel free to explore different model types that best serve your purpose."
      ],
      "metadata": {
        "id": "WZo6RKNg6N87"
      },
      "execution_count": null,
      "outputs": []
    },
    {
      "cell_type": "markdown",
      "source": [
        "## **5. Train Model**"
      ],
      "metadata": {
        "id": "xClNa-pd6Se0"
      }
    },
    {
      "cell_type": "code",
      "source": [
        "# TODO: Train your model here."
      ],
      "metadata": {
        "id": "A-XRoVw26YSf"
      },
      "execution_count": null,
      "outputs": []
    },
    {
      "cell_type": "markdown",
      "source": [
        "## **6. Make Predictions on Test Data**"
      ],
      "metadata": {
        "id": "s3gaHTeP6Y09"
      }
    },
    {
      "cell_type": "code",
      "source": [
        "# 6. Make Predictions on Test Data\n",
        "def preprocess_test_data(test_df, directory):\n",
        "    \"\"\"\n",
        "    Template for loading and preprocessing test images.\n",
        "    \"\"\"\n",
        "    # TODO: create a generator for the test set here.\n",
        "    # test_datagen = ImageDataGenerator(rescale=1./255)\n",
        "    # test_generator = test_datagen.flow_from_dataframe(\n",
        "    #     .... ## set the test_generator here\n",
        "    # )\n",
        "    # return test_generator"
      ],
      "metadata": {
        "id": "aRE3QtDG6eJY"
      },
      "execution_count": null,
      "outputs": []
    },
    {
      "cell_type": "code",
      "source": [
        "# Load test data\n",
        "test_dir = '/kaggle/input/bttai-ajl-2025/test/test/'\n",
        "# test_generator = preprocess_test_data(test_df, test_dir)"
      ],
      "metadata": {
        "id": "HsWFC1316hIa"
      },
      "execution_count": null,
      "outputs": []
    },
    {
      "cell_type": "markdown",
      "source": [
        "## **7. Generate Predictions**"
      ],
      "metadata": {
        "id": "GXSG72v_6hyc"
      }
    },
    {
      "cell_type": "code",
      "source": [
        "# TODO\n",
        "# Generate predictions based on the trained model\n",
        "# Then, save the predictions into a CSV file for submission"
      ],
      "metadata": {
        "id": "yl2Xar9E6lVW"
      },
      "execution_count": null,
      "outputs": []
    }
  ]
}